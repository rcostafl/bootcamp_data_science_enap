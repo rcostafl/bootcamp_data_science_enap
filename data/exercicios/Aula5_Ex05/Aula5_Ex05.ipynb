{
 "cells": [
  {
   "cell_type": "markdown",
   "metadata": {},
   "source": [
    "# Aula 5 - Exercícios - Gráficos\n",
    "### Consulta a internet (Google, Stackoverflow e etc) liberada!!"
   ]
  },
  {
   "cell_type": "code",
   "execution_count": 1,
   "metadata": {},
   "outputs": [],
   "source": [
    "# Importe a biblioteca pandas\n",
    "import pandas as pd\n",
    "import seaborn as sns\n",
    "sns.set() # Ajusta valor padrão de tema, escala e paleta de cor\n"
   ]
  },
  {
   "cell_type": "markdown",
   "metadata": {},
   "source": [
    "### 5.5 Faça o merge do dataset de morbidade com o dataset do índice de gini e plote um gráfico do tipo pairplot das seguintes variáveis (colunas): 'Internações',  'Óbitos', '2010' \n",
    "\n"
   ]
  },
  {
   "cell_type": "markdown",
   "metadata": {},
   "source": [
    "#### Dica: não tente plotar um pairplot de todas as variáveis, pois pode demorar bastante.\n",
    "#### path_morbidade = '../../curso_ciencia_dados2020/data/originais/morbidade/consolidado/morbidade.csv'\n",
    "#### path_gini = '../../curso_ciencia_dados2020/data/originais/gini/ginibr.csv'"
   ]
  },
  {
   "cell_type": "code",
   "execution_count": 57,
   "metadata": {
    "nbgrader": {
     "grade": true,
     "grade_id": "cell-553e524r8eb14bc30",
     "locked": false,
     "points": 1,
     "schema_version": 3,
     "solution": true,
     "task": false
    },
    "scrolled": true
   },
   "outputs": [
    {
     "data": {
      "text/plain": [
       "Município                         object\n",
       "Internações                      float64\n",
       "AIH_aprovadas                      int64\n",
       "Valor_total                      float64\n",
       "Valor_serviços_hospitalares      float64\n",
       "Val_serv_hosp_-_compl_federal    float64\n",
       "Val_serv_hosp_-_compl_gestor     float64\n",
       "Valor_serviços_profissionais     float64\n",
       "Val_serv_prof_-_compl_federal    float64\n",
       "Val_serv_prof_-_compl_gestor     float64\n",
       "Valor_médio_AIH                  float64\n",
       "Valor_médio_intern                object\n",
       "Dias_permanência                 float64\n",
       "Média_permanência                 object\n",
       "Óbitos                             Int64\n",
       "Taxa_mortalidade                  object\n",
       "mes                               object\n",
       "ano                                int64\n",
       "mes_ano                           object\n",
       "cod_ibge6                         string\n",
       "dtype: object"
      ]
     },
     "execution_count": 57,
     "metadata": {},
     "output_type": "execute_result"
    }
   ],
   "source": [
    "# Plote aqui seu gráfico\n",
    "path_morbidade = '../../data/originais/morbidade/consolidado/morbidade.csv'\n",
    "path_gini = '../../data/originais/gini/ginibr.csv'\n",
    "\n",
    "col_type = {\n",
    "    \"cod_ibge6\": \"string\",\n",
    "    \"Óbitos\": pd.Int64Dtype()\n",
    "}\n",
    "\n",
    "df_morbidade = pd.read_csv(path_morbidade, sep=\";\", header=0, decimal=\",\", low_memory=False, na_values=\"-\", dtype=col_type)\n",
    "df_morbidade.dtypes\n"
   ]
  },
  {
   "cell_type": "code",
   "execution_count": 59,
   "metadata": {},
   "outputs": [
    {
     "name": "stderr",
     "output_type": "stream",
     "text": [
      "<ipython-input-59-2eaba3a68077>:1: ParserWarning: Falling back to the 'python' engine because the 'c' engine does not support skipfooter; you can avoid this warning by specifying engine='python'.\n",
      "  df_gini = pd.read_csv(path_gini, sep=\";\", skiprows=2, header=0, encoding=\"utf-8\", decimal=\",\", skipfooter=2 )\n"
     ]
    },
    {
     "data": {
      "text/html": [
       "<div>\n",
       "<style scoped>\n",
       "    .dataframe tbody tr th:only-of-type {\n",
       "        vertical-align: middle;\n",
       "    }\n",
       "\n",
       "    .dataframe tbody tr th {\n",
       "        vertical-align: top;\n",
       "    }\n",
       "\n",
       "    .dataframe thead th {\n",
       "        text-align: right;\n",
       "    }\n",
       "</style>\n",
       "<table border=\"1\" class=\"dataframe\">\n",
       "  <thead>\n",
       "    <tr style=\"text-align: right;\">\n",
       "      <th></th>\n",
       "      <th>Município</th>\n",
       "      <th>1991</th>\n",
       "      <th>2000</th>\n",
       "      <th>2010</th>\n",
       "      <th>cod_ibge6</th>\n",
       "    </tr>\n",
       "  </thead>\n",
       "  <tbody>\n",
       "    <tr>\n",
       "      <th>0</th>\n",
       "      <td>110001 Alta Floresta D'Oeste</td>\n",
       "      <td>0.5983</td>\n",
       "      <td>0.5868</td>\n",
       "      <td>0.5893</td>\n",
       "      <td>110001</td>\n",
       "    </tr>\n",
       "    <tr>\n",
       "      <th>1</th>\n",
       "      <td>110037 Alto Alegre dos Parecis</td>\n",
       "      <td>...</td>\n",
       "      <td>0.508</td>\n",
       "      <td>0.5491</td>\n",
       "      <td>110037</td>\n",
       "    </tr>\n",
       "    <tr>\n",
       "      <th>2</th>\n",
       "      <td>110040 Alto Paraíso</td>\n",
       "      <td>...</td>\n",
       "      <td>0.6256</td>\n",
       "      <td>0.5417</td>\n",
       "      <td>110040</td>\n",
       "    </tr>\n",
       "    <tr>\n",
       "      <th>3</th>\n",
       "      <td>110034 Alvorada D'Oeste</td>\n",
       "      <td>0.569</td>\n",
       "      <td>0.6534</td>\n",
       "      <td>0.5355</td>\n",
       "      <td>110034</td>\n",
       "    </tr>\n",
       "    <tr>\n",
       "      <th>4</th>\n",
       "      <td>110002 Ariquemes</td>\n",
       "      <td>0.5827</td>\n",
       "      <td>0.5927</td>\n",
       "      <td>0.5496</td>\n",
       "      <td>110002</td>\n",
       "    </tr>\n",
       "    <tr>\n",
       "      <th>...</th>\n",
       "      <td>...</td>\n",
       "      <td>...</td>\n",
       "      <td>...</td>\n",
       "      <td>...</td>\n",
       "      <td>...</td>\n",
       "    </tr>\n",
       "    <tr>\n",
       "      <th>5560</th>\n",
       "      <td>522200 Vianópolis</td>\n",
       "      <td>0.5622</td>\n",
       "      <td>0.6746</td>\n",
       "      <td>0.4672</td>\n",
       "      <td>522200</td>\n",
       "    </tr>\n",
       "    <tr>\n",
       "      <th>5561</th>\n",
       "      <td>522205 Vicentinópolis</td>\n",
       "      <td>0.6308</td>\n",
       "      <td>0.5934</td>\n",
       "      <td>0.4824</td>\n",
       "      <td>522205</td>\n",
       "    </tr>\n",
       "    <tr>\n",
       "      <th>5562</th>\n",
       "      <td>522220 Vila Boa</td>\n",
       "      <td>...</td>\n",
       "      <td>0.5308</td>\n",
       "      <td>0.4935</td>\n",
       "      <td>522220</td>\n",
       "    </tr>\n",
       "    <tr>\n",
       "      <th>5563</th>\n",
       "      <td>522230 Vila Propício</td>\n",
       "      <td>...</td>\n",
       "      <td>0.5299</td>\n",
       "      <td>0.5240</td>\n",
       "      <td>522230</td>\n",
       "    </tr>\n",
       "    <tr>\n",
       "      <th>5564</th>\n",
       "      <td>530010 Brasília</td>\n",
       "      <td>0.6203</td>\n",
       "      <td>0.6406</td>\n",
       "      <td>0.6370</td>\n",
       "      <td>530010</td>\n",
       "    </tr>\n",
       "  </tbody>\n",
       "</table>\n",
       "<p>5565 rows × 5 columns</p>\n",
       "</div>"
      ],
      "text/plain": [
       "                           Município    1991    2000    2010 cod_ibge6\n",
       "0       110001 Alta Floresta D'Oeste  0.5983  0.5868  0.5893    110001\n",
       "1     110037 Alto Alegre dos Parecis     ...   0.508  0.5491    110037\n",
       "2                110040 Alto Paraíso     ...  0.6256  0.5417    110040\n",
       "3            110034 Alvorada D'Oeste   0.569  0.6534  0.5355    110034\n",
       "4                   110002 Ariquemes  0.5827  0.5927  0.5496    110002\n",
       "...                              ...     ...     ...     ...       ...\n",
       "5560               522200 Vianópolis  0.5622  0.6746  0.4672    522200\n",
       "5561           522205 Vicentinópolis  0.6308  0.5934  0.4824    522205\n",
       "5562                 522220 Vila Boa     ...  0.5308  0.4935    522220\n",
       "5563            522230 Vila Propício     ...  0.5299  0.5240    522230\n",
       "5564                 530010 Brasília  0.6203  0.6406  0.6370    530010\n",
       "\n",
       "[5565 rows x 5 columns]"
      ]
     },
     "execution_count": 59,
     "metadata": {},
     "output_type": "execute_result"
    }
   ],
   "source": [
    "df_gini = pd.read_csv(path_gini, sep=\";\", skiprows=2, header=0, encoding=\"utf-8\", decimal=\",\", skipfooter=2 )\n",
    "df_gini[\"cod_ibge6\"] = df_gini[\"Município\"].apply( lambda city: city[0:6] )\n",
    "df_gini[\"cod_ibge6\"]= df_gini[\"cod_ibge6\"].astype(\"string\")\n",
    "df_gini"
   ]
  },
  {
   "cell_type": "code",
   "execution_count": 62,
   "metadata": {},
   "outputs": [
    {
     "data": {
      "text/plain": [
       "Município_x                       object\n",
       "Internações                      float64\n",
       "AIH_aprovadas                      int64\n",
       "Valor_total                      float64\n",
       "Valor_serviços_hospitalares      float64\n",
       "Val_serv_hosp_-_compl_federal    float64\n",
       "Val_serv_hosp_-_compl_gestor     float64\n",
       "Valor_serviços_profissionais     float64\n",
       "Val_serv_prof_-_compl_federal    float64\n",
       "Val_serv_prof_-_compl_gestor     float64\n",
       "Valor_médio_AIH                  float64\n",
       "Valor_médio_intern                object\n",
       "Dias_permanência                 float64\n",
       "Média_permanência                 object\n",
       "Óbitos                             Int64\n",
       "Taxa_mortalidade                  object\n",
       "mes                               object\n",
       "ano                                int64\n",
       "mes_ano                           object\n",
       "cod_ibge6                         string\n",
       "Município_y                       object\n",
       "1991                              object\n",
       "2000                              object\n",
       "2010                             float64\n",
       "dtype: object"
      ]
     },
     "execution_count": 62,
     "metadata": {},
     "output_type": "execute_result"
    }
   ],
   "source": [
    "df_morb_gini = pd.merge(df_morbidade, df_gini, on=\"cod_ibge6\")\n",
    "df_morb_gini.dtypes"
   ]
  },
  {
   "cell_type": "code",
   "execution_count": 63,
   "metadata": {},
   "outputs": [
    {
     "data": {
      "text/plain": [
       "<seaborn.axisgrid.PairGrid at 0x7f3926224a30>"
      ]
     },
     "execution_count": 63,
     "metadata": {},
     "output_type": "execute_result"
    },
    {
     "data": {
      "image/png": "[encoded data removed]",
      "text/plain": [
       "<Figure size 360x180 with 2 Axes>"
      ]
     },
     "metadata": {},
     "output_type": "display_data"
    }
   ],
   "source": [
    "sns.pairplot(\n",
    "    df_morb_gini,\n",
    "    x_vars=[\"Óbitos\", \"Internações\"],\n",
    "    y_vars=[\"2010\"]\n",
    ")"
   ]
  },
  {
   "cell_type": "code",
   "execution_count": null,
   "metadata": {},
   "outputs": [],
   "source": []
  }
 ],
 "metadata": {
  "celltoolbar": "Create Assignment",
  "kernelspec": {
   "display_name": "Python 3",
   "language": "python",
   "name": "python3"
  },
  "language_info": {
   "codemirror_mode": {
    "name": "ipython",
    "version": 3
   },
   "file_extension": ".py",
   "mimetype": "text/x-python",
   "name": "python",
   "nbconvert_exporter": "python",
   "pygments_lexer": "ipython3",
   "version": "3.8.5"
  }
 },
 "nbformat": 4,
 "nbformat_minor": 4
}

{
 "cells": [
  {
   "cell_type": "markdown",
   "metadata": {},
   "source": [
    "# Aula 1 - Exercícios - Sintaxe de Python e NumPy Array\n",
    "### Consulta a internet (Google, Stackoverflow e etc) liberada!!"
   ]
  },
  {
   "cell_type": "markdown",
   "metadata": {},
   "source": [
    "### 1.5 Escreva uma função Python para remover itens duplicados de um dicionário, ou seja, cujos valores estejam duplicados.\n",
    "#### Exemplo:  d =  {1: 1, 2: 1, 3: 9, 4: 1, 5: 25}\n",
    "#### Resultado Esperado: {1: 1, 3: 9, 5: 25}"
   ]
  },
  {
   "cell_type": "code",
   "execution_count": 33,
   "metadata": {
    "deletable": false,
    "nbgrader": {
     "cell_type": "code",
     "checksum": "cd9b0b1b17e22bc2a7f6ea56914c15d5",
     "grade": false,
     "grade_id": "cell-1ff4485b8100a753",
     "locked": false,
     "schema_version": 3,
     "solution": true,
     "task": false
    }
   },
   "outputs": [],
   "source": [
    "def remove_duplicates(data):\n",
    "    \"\"\"retorne um dicionário sem duplicatas\n",
    "    \"\"\"\n",
    "    # This list will store the values to check if the values\n",
    "    values = []\n",
    "    dic_no_repeat = {}\n",
    "    \n",
    "    # YOUR CODE HERE\n",
    "    \n",
    "    # Iterates over all items\n",
    "    for k, v in data.items():\n",
    "        # If the values was not inserted yeat, inserts the value in the values list and the pair key -> value \n",
    "        # in the  dic_no_repeat\n",
    "        if v not in values:\n",
    "            values.append(v)\n",
    "            dic_no_repeat[k] = v\n",
    "            \n",
    "    return dic_no_repeat\n",
    "    #raise NotImplementedError()"
   ]
  },
  {
   "cell_type": "code",
   "execution_count": 34,
   "metadata": {},
   "outputs": [
    {
     "data": {
      "text/plain": [
       "{1: 'rafael', 2: 'rodrigo', 3: 'nathália', 4: 'bibiana'}"
      ]
     },
     "execution_count": 34,
     "metadata": {},
     "output_type": "execute_result"
    }
   ],
   "source": [
    "## Faça seus testes aqui\n",
    "\n",
    "data = {1: \"rafael\", 2: \"rodrigo\", 3: \"nathália\", 4: \"bibiana\", 5: \"rafael\", 6: \"bibiana\"\n",
    "       }\n",
    "        \n",
    "remove_duplicates(data)"
   ]
  },
  {
   "cell_type": "code",
   "execution_count": 35,
   "metadata": {
    "deletable": false,
    "editable": false,
    "nbgrader": {
     "cell_type": "code",
     "checksum": "7060d9c70f901df63d82c79ef309bfa8",
     "grade": true,
     "grade_id": "cell-b6c3a5db7e709b2a",
     "locked": true,
     "points": 1,
     "schema_version": 3,
     "solution": false,
     "task": false
    }
   },
   "outputs": [],
   "source": [
    "# Validação para nota\n",
    "assert remove_duplicates({1: 1, 2: 1, 3: 9, 4: 1, 5: 25}) ==  {1: 1, 3: 9, 5: 25}\n",
    "data = {'id1': {'name': ['Sara'], 'class': ['V'], 'subject_integration': ['english, math, science']},\n",
    "        'id2': {'name': ['David'], 'class': ['V'], 'subject_integration': ['english, math, science']},\n",
    "        'id3': {'name': ['Sara'], 'class': ['V'], 'subject_integration': ['english, math, science']},\n",
    "        'id4': {'name': ['Surya'], 'class': ['V'], 'subject_integration': ['english, math, science']}\n",
    "}\n",
    "no_duplicates = {'id1': {'name': ['Sara'], 'class': ['V'], 'subject_integration': ['english, math, science']}, \n",
    "                 'id2': {'name': ['David'], 'class': ['V'], 'subject_integration': ['english, math, science']}, \n",
    "                 'id4': {'name': ['Surya'], 'class': ['V'], 'subject_integration': ['english, math, science']}}\n",
    "assert remove_duplicates(data) == no_duplicates\n"
   ]
  },
  {
   "cell_type": "code",
   "execution_count": null,
   "metadata": {},
   "outputs": [],
   "source": []
  }
 ],
 "metadata": {
  "kernelspec": {
   "display_name": "Python 3",
   "language": "python",
   "name": "python3"
  },
  "language_info": {
   "codemirror_mode": {
    "name": "ipython",
    "version": 3
   },
   "file_extension": ".py",
   "mimetype": "text/x-python",
   "name": "python",
   "nbconvert_exporter": "python",
   "pygments_lexer": "ipython3",
   "version": "3.8.4"
  }
 },
 "nbformat": 4,
 "nbformat_minor": 4
}

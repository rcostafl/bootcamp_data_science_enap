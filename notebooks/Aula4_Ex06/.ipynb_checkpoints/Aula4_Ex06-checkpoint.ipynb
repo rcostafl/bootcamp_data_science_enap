{
 "cells": [
  {
   "cell_type": "markdown",
   "metadata": {},
   "source": [
    "# Aula 4 - Exercícios - Agregação com Pandas e Conceitos de Estatística\n",
    "### Consulta a internet (Google, Stackoverflow e etc) liberada!!"
   ]
  },
  {
   "cell_type": "code",
   "execution_count": 2,
   "metadata": {},
   "outputs": [],
   "source": [
    "# Importe a biblioteca pandas\n",
    "import pandas as pd\n",
    "import numpy as np"
   ]
  },
  {
   "cell_type": "markdown",
   "metadata": {},
   "source": [
    "### 4.6 Escreva uma função para realizar o agrupamento do dataset de morbidade por UF e por município aplicando a soma sobre as colunas Valor_total, Internações e Dias_permanência. Em seguida calcule, para todos os municípios nesta agregação, o custo médio diário das internações com a seguite fórmula: \n",
    "#### custo_medio_diario_intern = Valor_total/Dias_permanência"
   ]
  },
  {
   "cell_type": "code",
   "execution_count": 77,
   "metadata": {
    "deletable": false,
    "nbgrader": {
     "cell_type": "code",
     "checksum": "a846d285af0fb17f5e829da2e639c652",
     "grade": false,
     "grade_id": "cell-5b4dc5640fc839be",
     "locked": false,
     "schema_version": 3,
     "solution": true,
     "task": false
    }
   },
   "outputs": [],
   "source": [
    "# Dica: Faça a agregação usando um dicionário que mapeia a coluna e a respectiva métrica de\n",
    "#       agregação solicitada no enunciado.\n",
    "def custo_medio_internacao_agregado(df_morbidade_pop):\n",
    "    \"\"\"retorne o merge dos datasets de população e morbidade.\n",
    "    \"\"\"\n",
    "    # YOUR CODE HERE\n",
    "    grouped_by_uf_municipio = df_morbidade_pop.groupby([\"uf\", \"municipio\"], as_index=True)\n",
    "    aggregated_values = grouped_by_uf_municipio.agg(\n",
    "        {\"Valor_total\":[\"sum\"], \"Internações\":[\"sum\"], \"Dias_permanência\":[\"sum\"]}, \n",
    "    )\n",
    "    #aggregated_values['custo_medio_diario_intern'] = \n",
    "    aggregated_values[\"custo_medio_diario_intern\"] = aggregated_values[\"Valor_total\"] / aggregated_values[\"Dias_permanência\"]\n",
    "    return aggregated_values"
   ]
  },
  {
   "cell_type": "code",
   "execution_count": 78,
   "metadata": {},
   "outputs": [
    {
     "data": {
      "text/plain": [
       "{('Valor_total', 'sum'): 583634.7,\n",
       " ('Internações', 'sum'): 447.0,\n",
       " ('Dias_permanência', 'sum'): 2208.0,\n",
       " ('custo_medio_diario_intern', ''): 264.3}"
      ]
     },
     "execution_count": 78,
     "metadata": {},
     "output_type": "execute_result"
    }
   ],
   "source": [
    "# Faça seus testes aqui\n",
    "%run ../Aula4_Ex05/Aula4_Ex05.ipynb\n",
    "\n",
    "test_data = {'Valor_total': 583634.7,\n",
    " 'Internações': 447.0,\n",
    " 'Dias_permanência': 2208.0,\n",
    " 'custo_medio_diario_intern': 264.3}\n",
    "\n",
    "df_morbidade_pop = merge_morbidade_pop(path_pop, path_morbidade)\n",
    "data_abadia_go = custo_medio_internacao_agregado(df_morbidade_pop).loc['GO','Abadia de Goiás']\n",
    "data_abadia_go = data_abadia_go.apply(lambda x: round(x, 1))\n",
    "data_abadia_go.to_dict()\n",
    "#data_abadia_go.to_dict() == test_data"
   ]
  },
  {
   "cell_type": "code",
   "execution_count": 69,
   "metadata": {
    "deletable": false,
    "editable": false,
    "nbgrader": {
     "cell_type": "code",
     "checksum": "67ca56e75153143df7b44728ad007f8e",
     "grade": true,
     "grade_id": "cell-eee2219340bc517c",
     "locked": true,
     "points": 1,
     "schema_version": 3,
     "solution": false,
     "task": false
    }
   },
   "outputs": [
    {
     "ename": "AssertionError",
     "evalue": "",
     "output_type": "error",
     "traceback": [
      "\u001b[0;31m---------------------------------------------------------------------------\u001b[0m",
      "\u001b[0;31mAssertionError\u001b[0m                            Traceback (most recent call last)",
      "\u001b[0;32m<ipython-input-69-a404ff7461d8>\u001b[0m in \u001b[0;36m<module>\u001b[0;34m\u001b[0m\n\u001b[1;32m     10\u001b[0m \u001b[0mdata_abadia_go\u001b[0m \u001b[0;34m=\u001b[0m \u001b[0mdata_abadia_go\u001b[0m\u001b[0;34m.\u001b[0m\u001b[0mapply\u001b[0m\u001b[0;34m(\u001b[0m\u001b[0;32mlambda\u001b[0m \u001b[0mx\u001b[0m\u001b[0;34m:\u001b[0m \u001b[0mround\u001b[0m\u001b[0;34m(\u001b[0m\u001b[0mx\u001b[0m\u001b[0;34m,\u001b[0m \u001b[0;36m1\u001b[0m\u001b[0;34m)\u001b[0m\u001b[0;34m)\u001b[0m\u001b[0;34m\u001b[0m\u001b[0;34m\u001b[0m\u001b[0m\n\u001b[1;32m     11\u001b[0m \u001b[0;34m\u001b[0m\u001b[0m\n\u001b[0;32m---> 12\u001b[0;31m \u001b[0;32massert\u001b[0m \u001b[0mdata_abadia_go\u001b[0m\u001b[0;34m.\u001b[0m\u001b[0mto_dict\u001b[0m\u001b[0;34m(\u001b[0m\u001b[0;34m)\u001b[0m \u001b[0;34m==\u001b[0m \u001b[0mtest_data\u001b[0m\u001b[0;34m\u001b[0m\u001b[0;34m\u001b[0m\u001b[0m\n\u001b[0m",
      "\u001b[0;31mAssertionError\u001b[0m: "
     ]
    }
   ],
   "source": [
    "# Validação para nota\n",
    "%run ../Aula4_Ex05/Aula4_Ex05.ipynb\n",
    "test_data = {'Valor_total': 583634.7,\n",
    " 'Internações': 447.0,\n",
    " 'Dias_permanência': 2208.0,\n",
    " 'custo_medio_diario_intern': 264.3}\n",
    "\n",
    "df_morbidade_pop = merge_morbidade_pop(path_pop, path_morbidade)\n",
    "data_abadia_go = custo_medio_internacao_agregado(df_morbidade_pop).loc['GO','Abadia de Goiás']\n",
    "data_abadia_go = data_abadia_go.apply(lambda x: round(x, 1))\n",
    "\n",
    "assert data_abadia_go.to_dict() == test_data"
   ]
  },
  {
   "cell_type": "code",
   "execution_count": null,
   "metadata": {},
   "outputs": [],
   "source": []
  }
 ],
 "metadata": {
  "kernelspec": {
   "display_name": "Python 3",
   "language": "python",
   "name": "python3"
  },
  "language_info": {
   "codemirror_mode": {
    "name": "ipython",
    "version": 3
   },
   "file_extension": ".py",
   "mimetype": "text/x-python",
   "name": "python",
   "nbconvert_exporter": "python",
   "pygments_lexer": "ipython3",
   "version": "3.8.4"
  }
 },
 "nbformat": 4,
 "nbformat_minor": 4
}

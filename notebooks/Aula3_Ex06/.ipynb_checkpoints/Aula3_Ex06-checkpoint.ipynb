{
 "cells": [
  {
   "cell_type": "code",
   "execution_count": null,
   "metadata": {},
   "outputs": [],
   "source": []
  },
  {
   "cell_type": "markdown",
   "metadata": {},
   "source": [
    "# Aula 3 - Exercícios - Pandas, Fontes de dados e Agregação\n",
    "### Consulta a internet (Google, Stackoverflow e etc) liberada!!"
   ]
  },
  {
   "cell_type": "code",
   "execution_count": 76,
   "metadata": {},
   "outputs": [],
   "source": [
    "# Importe as bibliotecas pandas, numpy, glob e sqlalchemy\n",
    "import pandas as pd\n",
    "import numpy as np\n",
    "import sqlalchemy as sqla\n"
   ]
  },
  {
   "cell_type": "markdown",
   "metadata": {},
   "source": [
    "### 3.6 Escreva uma função para retornar os registros dos 10 maiores PIBs percapita do brasil (de 2017) a partir do dataframe do exercício anterior. \n",
    "#### Escreva uma função genérica que receba como parâmetro um dataframe e o nome da coluna de ordenação.\n"
   ]
  },
  {
   "cell_type": "code",
   "execution_count": 77,
   "metadata": {
    "deletable": false,
    "nbgrader": {
     "cell_type": "code",
     "checksum": "d87a1732e583e9319f37c3cbc3a4214f",
     "grade": false,
     "grade_id": "cell-553e5s248eb14bc30",
     "locked": false,
     "schema_version": 3,
     "solution": true,
     "task": false
    }
   },
   "outputs": [],
   "source": [
    "# Dica 1: Use o método sort_values para ordenar o dataframe. Para uma ordenação descendente use ascending=False.\n",
    "# Dica 2: Use o atributo iloc para retornar todas as colunas dos 10 primeiros registros.\n",
    "def top10(df, col):\n",
    "    \"\"\"retorne os top 10 registros do dataframe df ordenados por col\n",
    "    \"\"\"\n",
    "    # YOUR CODE HERE\n",
    "    df.rename(columns={\"municipio_x\":\"municipio\"}, inplace=True)\n",
    "    return df.sort_values(by=col, ascending=False).iloc[0:10, :]\n"
   ]
  },
  {
   "cell_type": "code",
   "execution_count": 78,
   "metadata": {},
   "outputs": [],
   "source": [
    "# Importar e carregar as funcoes dos exercicios 4 e 5\n",
    "%run ../Aula3_Ex04/Aula3_Ex04.ipynb\n",
    "%run ../Aula3_Ex05/Aula3_Ex05.ipynb"
   ]
  },
  {
   "cell_type": "code",
   "execution_count": 82,
   "metadata": {},
   "outputs": [
    {
     "data": {
      "text/plain": [
       "{'cod_ibge7': {3677: '3536505', 3547: '3524709'},\n",
       " 'municipio': {3677: 'Paulínia', 3547: 'Jaguariúna'},\n",
       " 'uf': {3677: 'SP', 3547: 'SP'},\n",
       " 'pib_percapita': {3677: 344.8, 3547: 209.3}}"
      ]
     },
     "execution_count": 82,
     "metadata": {},
     "output_type": "execute_result"
    }
   ],
   "source": [
    "## Faça seus testes aqui\n",
    "df_pib_pop = merge_pop_pib(path_pop, path_pib)\n",
    "pib_percapita_2017 = pib_percapita(df_pib_pop)\n",
    "\n",
    "test_data = {'cod_ibge7': {3677: '3536505', 3547: '3524709'},\n",
    "             'municipio': {3677: 'Paulínia', 3547: 'Jaguariúna'},\n",
    "             'uf': {3677: 'SP', 3547: 'SP'},\n",
    "             'pib_percapita': {3677: 344.8, 3547: 209.3}}\n",
    "cidades_0_9 = top10(pib_percapita_2017, 'pib_percapita')[['cod_ibge7', 'municipio', 'uf', 'pib_percapita']].iloc[[0,9]]\n",
    "cidades_0_9_y = top10(pib_percapita_2017, 'pib_percapita')[['cod_ibge7', 'municipio_y', 'uf', 'pib_percapita']].iloc[[0,9]]\n",
    "\n",
    "cidades_0_9['pib_percapita'] = cidades_0_9['pib_percapita'].apply(lambda x: round(x, 1))\n",
    "cidades_0_9_y['pib_percapita'] = cidades_0_9_y['pib_percapita'].apply(lambda x: round(x, 1))\n",
    "\n",
    "#top10(pib_percapita_2017, 'pib_percapita')[['cod_ibge7', 'municipio', 'uf', 'pib_percapita']].iloc[[0,9]]\n",
    "#top10(pib_percapita_2017, 'pib_percapita')[['cod_ibge7', 'municipio_y', 'uf', 'pib_percapita']].iloc[[0,9]]\n",
    "\n",
    "assert cidades_0_9.to_dict() == test_data or cidades_0_9_y.to_dict() == test_data"
   ]
  },
  {
   "cell_type": "code",
   "execution_count": 75,
   "metadata": {
    "deletable": false,
    "editable": false,
    "nbgrader": {
     "cell_type": "code",
     "checksum": "aaf85b2fb6f537a20eec70466d46a3ae",
     "grade": true,
     "grade_id": "cell-0e2b6cefe06hbdc60",
     "locked": true,
     "points": 1,
     "schema_version": 3,
     "solution": false,
     "task": false
    }
   },
   "outputs": [],
   "source": [
    "# Validação para nota\n",
    "# Importar e carregar as funcoes dos exercicios 4 e 5\n",
    "%run ../Aula3_Ex04/Aula3_Ex04.ipynb\n",
    "%run ../Aula3_Ex05/Aula3_Ex05.ipynb\n",
    "df_pib_pop = merge_pop_pib(path_pop, path_pib)\n",
    "pib_percapita_2017 = pib_percapita(df_pib_pop)\n",
    "\n",
    "test_data = {'cod_ibge7': {3677: '3536505', 3547: '3524709'},\n",
    "             'municipio': {3677: 'Paulínia', 3547: 'Jaguariúna'},\n",
    "             'uf': {3677: 'SP', 3547: 'SP'},\n",
    "             'pib_percapita': {3677: 344.8, 3547: 209.3}}\n",
    "cidades_0_9 = top10(pib_percapita_2017, 'pib_percapita')[['cod_ibge7', 'municipio', 'uf', 'pib_percapita']].iloc[[0,9]]\n",
    "cidades_0_9_y = top10(pib_percapita_2017, 'pib_percapita')[['cod_ibge7', 'municipio_y', 'uf', 'pib_percapita']].iloc[[0,9]]\n",
    "\n",
    "cidades_0_9['pib_percapita'] = cidades_0_9['pib_percapita'].apply(lambda x: round(x, 1))\n",
    "cidades_0_9_y['pib_percapita'] = cidades_0_9_y['pib_percapita'].apply(lambda x: round(x, 1))\n",
    "\n",
    "assert cidades_0_9.to_dict() == test_data or cidades_0_9_y.to_dict() == test_data"
   ]
  },
  {
   "cell_type": "code",
   "execution_count": null,
   "metadata": {},
   "outputs": [],
   "source": []
  }
 ],
 "metadata": {
  "kernelspec": {
   "display_name": "Python 3",
   "language": "python",
   "name": "python3"
  },
  "language_info": {
   "codemirror_mode": {
    "name": "ipython",
    "version": 3
   },
   "file_extension": ".py",
   "mimetype": "text/x-python",
   "name": "python",
   "nbconvert_exporter": "python",
   "pygments_lexer": "ipython3",
   "version": "3.8.4"
  }
 },
 "nbformat": 4,
 "nbformat_minor": 4
}

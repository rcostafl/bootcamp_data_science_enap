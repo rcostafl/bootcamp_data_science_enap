{
 "cells": [
  {
   "cell_type": "markdown",
   "metadata": {},
   "source": [
    "# Aula 3 - Exercícios - Pandas, Fontes de dados e Agregação\n",
    "### Consulta a internet (Google, Stackoverflow e etc) liberada!!"
   ]
  },
  {
   "cell_type": "code",
   "execution_count": 114,
   "metadata": {},
   "outputs": [],
   "source": [
    "# Importe as bibliotecas pandas, numpy, glob e sqlalchemy\n",
    "import pandas as pd\n",
    "import numpy as np\n",
    "import sqlalchemy as sqla\n",
    "from numpy import nan as NA\n"
   ]
  },
  {
   "cell_type": "markdown",
   "metadata": {},
   "source": [
    "### 3.8 Considere algumas linhas de uma base de dados de morbidade apresentadas a seguir. Perceba que há dados de vários meses de 2020 para cada Estado da Federação.\n",
    "#### Escreva uma função para pivotar esta base de dados apresentando os meses do ano nas colunas, os municípios nas linhas e a quantidade de óbitos como valores das células. \n",
    "\n",
    "|       | Município               |   cod_ibge6 | mes   |   ano | mes_ano    | Óbitos   |\n",
    "|------:|:------------------------|------------:|:------|------:|:-----------|:---------|\n",
    "|     0 | Alta Floresta D'Oeste   |      110001 | Abr   |  2020 | 2020-04-01 | 8        |\n",
    "|     1 | Alto Alegre dos Parecis |      110037 | Abr   |  2020 | 2020-04-01 | 1        |\n",
    "|     2 | Alto Paraíso            |      110040 | Abr   |  2020 | 2020-04-01 | 2        |\n",
    "| 33347 | Vila Boa                |      522220 | Jan   |  2020 | 2020-01-01 | -        |\n",
    "| 33348 | Vila Propício           |      522230 | Jan   |  2020 | 2020-01-01 | -        |\n",
    "| 33349 | Brasília                |      530010 | Jan   |  2020 | 2020-01-01 | 578      |"
   ]
  },
  {
   "cell_type": "code",
   "execution_count": 115,
   "metadata": {
    "deletable": false,
    "nbgrader": {
     "cell_type": "code",
     "checksum": "9291b0e30fb848e7c19c59e1d67ab3b0",
     "grade": false,
     "grade_id": "cell-553e52r48eb14bc30",
     "locked": false,
     "schema_version": 3,
     "solution": true,
     "task": false
    }
   },
   "outputs": [],
   "source": [
    "# Dica 1: Sempre dê preferência para fazer agregação usando códigos como identificador, \n",
    "#         use nomes em ultimo caso quando não houver códigos identificadores. \n",
    "# Dica 2: Se você usar o atributo 'mes_ano' para pivotar, o pandas já ordena de forma cronológica as colunas.\n",
    "def pivot_morbidade(file_path):\n",
    "    \"\"\"retorne um dataframe pivotado\n",
    "    \"\"\"\n",
    "    # YOUR CODE HERE\n",
    "    \n",
    "    #raise NotImplementedError()\n",
    "    #pivot_morbidade(file_path)\n",
    "    df = pd.read_csv(file_path, sep=';', header=0, index_col=\"cod_ibge6\")  \n",
    "    df_clean = df.drop_duplicates(subset=[\"Município\",\"mes_ano\"])\n",
    "    #df[\"Óbitos\"].replace(\"-\", 0, inplace=True)\n",
    "    #df[\"Óbitos\"] = df[\"Óbitos\"].astype(\"int\")\n",
    "    #df.sort_values(by=\"Município\")\n",
    "    #df2 = df.groupby([df['Município'], df['mes_ano']], as_index=False)['Óbitos'].sum()\n",
    "\n",
    "    \n",
    "    return df_clean.pivot(columns=\"mes_ano\", values=\"Óbitos\")\n",
    "    #df_clean.pivot(, columns=\"mes_ano\", values=\"Óbitos\").loc[110001]\n",
    "    #df2.pivot(index=\"Município\", columns=\"mes_ano\", values=\"Óbitos\").loc[110001]\n",
    "\n"
   ]
  },
  {
   "cell_type": "code",
   "execution_count": 116,
   "metadata": {},
   "outputs": [
    {
     "data": {
      "text/plain": [
       "{'2020-01-01': '5',\n",
       " '2020-02-01': '2',\n",
       " '2020-03-01': '3',\n",
       " '2020-04-01': '8',\n",
       " '2020-05-01': '2',\n",
       " '2020-06-01': '2'}"
      ]
     },
     "execution_count": 116,
     "metadata": {},
     "output_type": "execute_result"
    }
   ],
   "source": [
    "## Faça seus testes aqui\n",
    "file_path = '../../curso_ciencia_dados2020/data/originais/morbidade/consolidado/morbidade_simplificado.csv'\n",
    "pivot_morbidade(file_path).loc[110001].to_dict()\n"
   ]
  },
  {
   "cell_type": "code",
   "execution_count": 117,
   "metadata": {
    "deletable": false,
    "editable": false,
    "nbgrader": {
     "cell_type": "code",
     "checksum": "0c172467ce75aee5697c5b52ded28765",
     "grade": true,
     "grade_id": "cell-0e2b6tcefe06bdc60",
     "locked": true,
     "points": 1,
     "schema_version": 3,
     "solution": false,
     "task": false
    }
   },
   "outputs": [],
   "source": [
    "# Validação para nota\n",
    "file_path = '../../curso_ciencia_dados2020/data/originais/morbidade/consolidado/morbidade_simplificado.csv'\n",
    "test_data = {'2020-01-01': '5', '2020-02-01': '2', '2020-03-01': '3', '2020-04-01': '8', '2020-05-01': '2', \n",
    "             '2020-06-01': '2'}\n",
    "assert pivot_morbidade(file_path).loc[110001].to_dict() == test_data\n"
   ]
  },
  {
   "cell_type": "code",
   "execution_count": null,
   "metadata": {},
   "outputs": [],
   "source": []
  },
  {
   "cell_type": "code",
   "execution_count": null,
   "metadata": {},
   "outputs": [],
   "source": []
  }
 ],
 "metadata": {
  "kernelspec": {
   "display_name": "Python 3",
   "language": "python",
   "name": "python3"
  },
  "language_info": {
   "codemirror_mode": {
    "name": "ipython",
    "version": 3
   },
   "file_extension": ".py",
   "mimetype": "text/x-python",
   "name": "python",
   "nbconvert_exporter": "python",
   "pygments_lexer": "ipython3",
   "version": "3.8.4"
  }
 },
 "nbformat": 4,
 "nbformat_minor": 4
}

{
 "cells": [
  {
   "cell_type": "markdown",
   "metadata": {},
   "source": [
    "# Aula 5 - Exercícios - Gráficos\n",
    "### Consulta a internet (Google, Stackoverflow e etc) liberada!!"
   ]
  },
  {
   "cell_type": "code",
   "execution_count": 1,
   "metadata": {},
   "outputs": [],
   "source": [
    "# Importe a biblioteca pandas\n",
    "import pandas as pd\n",
    "import seaborn as sns\n",
    "sns.set() # Ajusta valor padrão de tema, escala e paleta de cor\n"
   ]
  },
  {
   "cell_type": "markdown",
   "metadata": {},
   "source": [
    "### 5.1 Plote um boxplot do índice de gini dos municípios brasileiros.\n",
    "#### Veja o resultado esperado a seguir.\n"
   ]
  },
  {
   "cell_type": "markdown",
   "metadata": {},
   "source": [
    "#### Dica: é necessário alguma manipulação dos dados antes de plotar o gráfico.\n",
    "#### path_gini='../../curso_ciencia_dados2020/data/originais/gini/ginibr.csv'"
   ]
  },
  {
   "attachments": {
    "5.1_boxplot_gini.png": {
     "image/png": "[encoded data removed]"
    }
   },
   "cell_type": "markdown",
   "metadata": {},
   "source": [
    "![5.1_boxplot_gini.png](attachment:5.1_boxplot_gini.png)"
   ]
  },
  {
   "cell_type": "code",
   "execution_count": 2,
   "metadata": {
    "deletable": false,
    "nbgrader": {
     "cell_type": "code",
     "checksum": "85b658c8c87a96f528513f2da03ca645",
     "grade": true,
     "grade_id": "cell-d2e0568a09d9eb4a",
     "locked": false,
     "points": 1,
     "schema_version": 3,
     "solution": true,
     "task": false
    }
   },
   "outputs": [
    {
     "data": {
      "text/html": [
       "<div>\n",
       "<style scoped>\n",
       "    .dataframe tbody tr th:only-of-type {\n",
       "        vertical-align: middle;\n",
       "    }\n",
       "\n",
       "    .dataframe tbody tr th {\n",
       "        vertical-align: top;\n",
       "    }\n",
       "\n",
       "    .dataframe thead th {\n",
       "        text-align: right;\n",
       "    }\n",
       "</style>\n",
       "<table border=\"1\" class=\"dataframe\">\n",
       "  <thead>\n",
       "    <tr style=\"text-align: right;\">\n",
       "      <th></th>\n",
       "      <th>Município</th>\n",
       "      <th>data</th>\n",
       "      <th>gini</th>\n",
       "    </tr>\n",
       "  </thead>\n",
       "  <tbody>\n",
       "    <tr>\n",
       "      <th>0</th>\n",
       "      <td>110001 Alta Floresta D'Oeste</td>\n",
       "      <td>1991</td>\n",
       "      <td>0.5983</td>\n",
       "    </tr>\n",
       "    <tr>\n",
       "      <th>1</th>\n",
       "      <td>110037 Alto Alegre dos Parecis</td>\n",
       "      <td>1991</td>\n",
       "      <td>NaN</td>\n",
       "    </tr>\n",
       "    <tr>\n",
       "      <th>2</th>\n",
       "      <td>110040 Alto Paraíso</td>\n",
       "      <td>1991</td>\n",
       "      <td>NaN</td>\n",
       "    </tr>\n",
       "    <tr>\n",
       "      <th>3</th>\n",
       "      <td>110034 Alvorada D'Oeste</td>\n",
       "      <td>1991</td>\n",
       "      <td>0.5690</td>\n",
       "    </tr>\n",
       "    <tr>\n",
       "      <th>4</th>\n",
       "      <td>110002 Ariquemes</td>\n",
       "      <td>1991</td>\n",
       "      <td>0.5827</td>\n",
       "    </tr>\n",
       "    <tr>\n",
       "      <th>...</th>\n",
       "      <td>...</td>\n",
       "      <td>...</td>\n",
       "      <td>...</td>\n",
       "    </tr>\n",
       "    <tr>\n",
       "      <th>16690</th>\n",
       "      <td>522200 Vianópolis</td>\n",
       "      <td>2010</td>\n",
       "      <td>0.4672</td>\n",
       "    </tr>\n",
       "    <tr>\n",
       "      <th>16691</th>\n",
       "      <td>522205 Vicentinópolis</td>\n",
       "      <td>2010</td>\n",
       "      <td>0.4824</td>\n",
       "    </tr>\n",
       "    <tr>\n",
       "      <th>16692</th>\n",
       "      <td>522220 Vila Boa</td>\n",
       "      <td>2010</td>\n",
       "      <td>0.4935</td>\n",
       "    </tr>\n",
       "    <tr>\n",
       "      <th>16693</th>\n",
       "      <td>522230 Vila Propício</td>\n",
       "      <td>2010</td>\n",
       "      <td>0.5240</td>\n",
       "    </tr>\n",
       "    <tr>\n",
       "      <th>16694</th>\n",
       "      <td>530010 Brasília</td>\n",
       "      <td>2010</td>\n",
       "      <td>0.6370</td>\n",
       "    </tr>\n",
       "  </tbody>\n",
       "</table>\n",
       "<p>16695 rows × 3 columns</p>\n",
       "</div>"
      ],
      "text/plain": [
       "                            Município  data    gini\n",
       "0        110001 Alta Floresta D'Oeste  1991  0.5983\n",
       "1      110037 Alto Alegre dos Parecis  1991     NaN\n",
       "2                 110040 Alto Paraíso  1991     NaN\n",
       "3             110034 Alvorada D'Oeste  1991  0.5690\n",
       "4                    110002 Ariquemes  1991  0.5827\n",
       "...                               ...   ...     ...\n",
       "16690               522200 Vianópolis  2010  0.4672\n",
       "16691           522205 Vicentinópolis  2010  0.4824\n",
       "16692                 522220 Vila Boa  2010  0.4935\n",
       "16693            522230 Vila Propício  2010  0.5240\n",
       "16694                 530010 Brasília  2010  0.6370\n",
       "\n",
       "[16695 rows x 3 columns]"
      ]
     },
     "execution_count": 2,
     "metadata": {},
     "output_type": "execute_result"
    }
   ],
   "source": [
    "# YOUR CODE HERE\n",
    "# Caminho para o arquivo com os dados do gini - Brasil\n",
    "path_gini='../../curso_ciencia_dados2020/data/originais/gini/ginibr.csv'\n",
    "\n",
    "# Definindo o tipo dos dados a serem importados\n",
    "types = {\n",
    "    \"Município\":\"string\",\n",
    "    \"1991\": \"float\",\n",
    "    \"2000\": \"float\",\n",
    "    \"2010\": \"float\"\n",
    "}\n",
    "\n",
    "# Carregando o datase a partir dos dados do arquivo csv\n",
    "gini = pd.read_csv(\n",
    "    path_gini, sep=\";\", \n",
    "    decimal=\",\", \n",
    "    header=0, \n",
    "    skiprows=2, \n",
    "    skipfooter=2, \n",
    "    engine='python', \n",
    "    dtype=types,\n",
    "    na_values=\"...\"\n",
    ")\n",
    "\n",
    "# Alinhando os anos em uma coluna DATA, que será utilizada como o eixo x do gráfico\n",
    "gini = gini.melt(id_vars=['Município'], var_name='data', value_name='gini')\n",
    "\n",
    "# Imprimindo o dataset que será utilizado como base para o gráfico\n",
    "gini"
   ]
  },
  {
   "cell_type": "code",
   "execution_count": 3,
   "metadata": {},
   "outputs": [
    {
     "data": {
      "text/plain": [
       "<AxesSubplot:xlabel='data', ylabel='gini'>"
      ]
     },
     "execution_count": 3,
     "metadata": {},
     "output_type": "execute_result"
    },
    {
     "data": {
      "image/png": "[encoded data removed]",
      "text/plain": [
       "<Figure size 432x288 with 1 Axes>"
      ]
     },
     "metadata": {},
     "output_type": "display_data"
    }
   ],
   "source": [
    "# Gerando o gráfico boxplot\n",
    "sns.boxplot(x=\"data\", y=\"gini\", data=gini)\n"
   ]
  },
  {
   "cell_type": "code",
   "execution_count": null,
   "metadata": {},
   "outputs": [],
   "source": []
  }
 ],
 "metadata": {
  "kernelspec": {
   "display_name": "Python 3",
   "language": "python",
   "name": "python3"
  },
  "language_info": {
   "codemirror_mode": {
    "name": "ipython",
    "version": 3
   },
   "file_extension": ".py",
   "mimetype": "text/x-python",
   "name": "python",
   "nbconvert_exporter": "python",
   "pygments_lexer": "ipython3",
   "version": "3.8.4"
  }
 },
 "nbformat": 4,
 "nbformat_minor": 4
}

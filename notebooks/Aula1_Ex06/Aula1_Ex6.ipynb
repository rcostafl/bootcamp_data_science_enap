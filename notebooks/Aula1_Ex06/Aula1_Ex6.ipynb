{
 "cells": [
  {
   "cell_type": "markdown",
   "metadata": {},
   "source": [
    "# Aula 1 - Exercícios - Sintaxe de Python e NumPy Array\n",
    "### Consulta a internet (Google, Stackoverflow e etc) liberada!!"
   ]
  },
  {
   "cell_type": "markdown",
   "metadata": {},
   "source": [
    "### 1.6 Escreva uma função Python para combinar os itens de mesma chave de uma lista de  dicionários, somando os valores correspondentes.\n",
    "##### Exemplo:  para [{'item': 'item1', 'quantidade': 400}, {'item': 'item2', 'quantidade': 300}, {'item': 'item1', 'quantidade': 750}]\n",
    "##### Resultado esperado: {'item1': 1150, 'item2': 300}"
   ]
  },
  {
   "cell_type": "code",
   "execution_count": 29,
   "metadata": {
    "deletable": false,
    "nbgrader": {
     "cell_type": "code",
     "checksum": "65902b6a8996ea75dbd0e52d3f22c3b7",
     "grade": false,
     "grade_id": "cell-e69a127f71184645",
     "locked": false,
     "schema_version": 3,
     "solution": true,
     "task": false
    }
   },
   "outputs": [],
   "source": [
    "def combine_items(item_list):\n",
    "    \"\"\"retorne um dicionário combinando (somando) as quantidades do mesmo item\n",
    "    \"\"\"\n",
    "    # YOUR CODE HERE\n",
    "    new_dict = {}\n",
    "    for dictionary in item_list:\n",
    "        key = dictionary[\"item\"]\n",
    "        value = dictionary[\"quantidade\"]\n",
    "        \n",
    "        if key in new_dict:\n",
    "            new_dict[key] = new_dict[key] + value\n",
    "        else:\n",
    "             new_dict[key] = value\n",
    "        \n",
    "    return new_dict\n",
    "    #raise NotImplementedError()"
   ]
  },
  {
   "cell_type": "code",
   "execution_count": 30,
   "metadata": {},
   "outputs": [
    {
     "data": {
      "text/plain": [
       "{'item1': 1150, 'item2': 300}"
      ]
     },
     "execution_count": 30,
     "metadata": {},
     "output_type": "execute_result"
    }
   ],
   "source": [
    "## Faça seus testes aqui\n",
    "input_data = [{'item': 'item1', 'quantidade': 400}, \n",
    "              {'item': 'item2', 'quantidade': 300}, \n",
    "              {'item': 'item1', 'quantidade': 750}]\n",
    "combine_items(input_data)"
   ]
  },
  {
   "cell_type": "code",
   "execution_count": 31,
   "metadata": {
    "deletable": false,
    "editable": false,
    "nbgrader": {
     "cell_type": "code",
     "checksum": "9b82e5c0788ec9af1e83cd280e02e7d7",
     "grade": true,
     "grade_id": "cell-418c099df61d368b",
     "locked": true,
     "points": 1,
     "schema_version": 3,
     "solution": false,
     "task": false
    }
   },
   "outputs": [],
   "source": [
    "# Validação para nota\n",
    "input_data = [{'item': 'item1', 'quantidade': 400}, \n",
    "              {'item': 'item2', 'quantidade': 300}, \n",
    "              {'item': 'item1', 'quantidade': 750}]\n",
    "output_result = {'item1': 1150, 'item2': 300}\n",
    "assert combine_items(input_data) == output_result\n"
   ]
  },
  {
   "cell_type": "code",
   "execution_count": null,
   "metadata": {},
   "outputs": [],
   "source": []
  }
 ],
 "metadata": {
  "kernelspec": {
   "display_name": "Python 3",
   "language": "python",
   "name": "python3"
  },
  "language_info": {
   "codemirror_mode": {
    "name": "ipython",
    "version": 3
   },
   "file_extension": ".py",
   "mimetype": "text/x-python",
   "name": "python",
   "nbconvert_exporter": "python",
   "pygments_lexer": "ipython3",
   "version": "3.8.4"
  }
 },
 "nbformat": 4,
 "nbformat_minor": 4
}

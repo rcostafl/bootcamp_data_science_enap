{
 "cells": [
  {
   "cell_type": "markdown",
   "metadata": {},
   "source": [
    "# Aula 3 - Exercícios - Pandas, Fontes de dados e Agregação\n",
    "### Consulta a internet (Google, Stackoverflow e etc) liberada!!"
   ]
  },
  {
   "cell_type": "markdown",
   "metadata": {},
   "source": [
    "### 3.3 Escreva uma função executar uma query SQL de agregação num banco de dados SQLite que retorne a média dos valores de uma coluna VALORES agregados por uma coluna CATEGORIAS.\n",
    "#### Retorne a coluna CATEGORIA na tabela de resultados para identificar os valores. Ordene os resultados pelo valor da média em ordem decrescente.\n",
    "#### Exemplo: Calcule média do IDHM (coluna VALORES) agregado por Ano da pesquisa (CATEGORIAS)."
   ]
  },
  {
   "cell_type": "code",
   "execution_count": 8,
   "metadata": {},
   "outputs": [],
   "source": [
    "# Importe as bibliotecas pandas, numpy, glob e sqlalchemy\n",
    "import pandas as pd\n",
    "import numpy as np\n",
    "import sqlalchemy as sqla"
   ]
  },
  {
   "cell_type": "code",
   "execution_count": 9,
   "metadata": {
    "deletable": false,
    "nbgrader": {
     "cell_type": "code",
     "checksum": "91d40e9b68a338554169bfe82aa5da28",
     "grade": false,
     "grade_id": "cell-553e5248ebs14bc30",
     "locked": false,
     "schema_version": 3,
     "solution": true,
     "task": false
    }
   },
   "outputs": [],
   "source": [
    "# Dica: A resposta deste exercício é bem semelhante ao código mostrado na aula\n",
    "def soma_com_agregacao(val, cat, table, con_str):\n",
    "    \"\"\"retorne um dataframe contendo a soma dos valores em val dentro das categorias cat da tabela table\n",
    "    \"\"\"\n",
    "    con = sqla.create_engine(con_str)\n",
    "    df = pd.read_sql_query(f\"select ano, sum(IDHM)\\\n",
    "                            from {table}\\\n",
    "                            group by ano\", con)\n",
    "    \n",
    "    # YOUR CODE HERE\n",
    "    return df\n"
   ]
  },
  {
   "cell_type": "code",
   "execution_count": 10,
   "metadata": {},
   "outputs": [
    {
     "data": {
      "text/html": [
       "<div>\n",
       "<style scoped>\n",
       "    .dataframe tbody tr th:only-of-type {\n",
       "        vertical-align: middle;\n",
       "    }\n",
       "\n",
       "    .dataframe tbody tr th {\n",
       "        vertical-align: top;\n",
       "    }\n",
       "\n",
       "    .dataframe thead th {\n",
       "        text-align: right;\n",
       "    }\n",
       "</style>\n",
       "<table border=\"1\" class=\"dataframe\">\n",
       "  <thead>\n",
       "    <tr style=\"text-align: right;\">\n",
       "      <th></th>\n",
       "      <th>ANO</th>\n",
       "      <th>sum(IDHM)</th>\n",
       "    </tr>\n",
       "  </thead>\n",
       "  <tbody>\n",
       "    <tr>\n",
       "      <th>0</th>\n",
       "      <td>1991</td>\n",
       "      <td>2122.337</td>\n",
       "    </tr>\n",
       "    <tr>\n",
       "      <th>1</th>\n",
       "      <td>2000</td>\n",
       "      <td>2913.171</td>\n",
       "    </tr>\n",
       "    <tr>\n",
       "      <th>2</th>\n",
       "      <td>2010</td>\n",
       "      <td>3668.211</td>\n",
       "    </tr>\n",
       "  </tbody>\n",
       "</table>\n",
       "</div>"
      ],
      "text/plain": [
       "    ANO  sum(IDHM)\n",
       "0  1991   2122.337\n",
       "1  2000   2913.171\n",
       "2  2010   3668.211"
      ]
     },
     "execution_count": 10,
     "metadata": {},
     "output_type": "execute_result"
    }
   ],
   "source": [
    "## Faça seus testes aqui\n",
    "con_str='sqlite:///../../curso_ciencia_dados2020/data/processados/idhm/idhm2013.sqlite'\n",
    "# defina uma variavel com o mesmo nome da tabela salva no banco de dados do exercício 2\n",
    "\n",
    "\n",
    "col_value = \"IDHM\"\n",
    "cat = \"ANO\"\n",
    "table_name = \"idh_table\"\n",
    "\n",
    "soma_com_agregacao(col_value, cat, table_name, con_str)\n"
   ]
  },
  {
   "cell_type": "code",
   "execution_count": null,
   "metadata": {
    "deletable": false,
    "editable": false,
    "nbgrader": {
     "cell_type": "code",
     "checksum": "3cd226feff459b396f3cbf24466b75f0",
     "grade": true,
     "grade_id": "cell-0e2bt6cefe06bdc60",
     "locked": true,
     "points": 1,
     "schema_version": 3,
     "solution": false,
     "task": false
    }
   },
   "outputs": [],
   "source": [
    "# Validação para nota\n",
    "### ATENÇÃO PARA ESTA INSTRUÇÃO ####\n",
    "# defina uma variavel na célula anterior com o mesmo nome da tabela salva no banco de dados do exercício 2\n",
    "con_str='sqlite:///../../curso_ciencia_dados2020/data/processados/idhm/idhm2013.sqlite'\n",
    "test_data = {'ANO': {0: 2010, 1: 2000, 2: 1991}, 'Media': {0: 0.7, 1: 0.5, 2: 0.4}}\n",
    "df_agg = soma_com_agregacao('IDHM', 'ANO', table_name, con_str)\n",
    "df_agg['Media'] = df_agg['Media'].apply(lambda x: round(x, 1))\n",
    "assert df_agg.to_dict() == test_data"
   ]
  },
  {
   "cell_type": "code",
   "execution_count": null,
   "metadata": {},
   "outputs": [],
   "source": []
  }
 ],
 "metadata": {
  "kernelspec": {
   "display_name": "Python 3",
   "language": "python",
   "name": "python3"
  },
  "language_info": {
   "codemirror_mode": {
    "name": "ipython",
    "version": 3
   },
   "file_extension": ".py",
   "mimetype": "text/x-python",
   "name": "python",
   "nbconvert_exporter": "python",
   "pygments_lexer": "ipython3",
   "version": "3.8.4"
  }
 },
 "nbformat": 4,
 "nbformat_minor": 4
}

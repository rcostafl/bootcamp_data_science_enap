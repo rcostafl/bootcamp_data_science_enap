{
 "cells": [
  {
   "cell_type": "markdown",
   "metadata": {},
   "source": [
    "# Aula 4 - Exercícios - Agregação com Pandas e Conceitos de Estatística\n",
    "### Consulta a internet (Google, Stackoverflow e etc) liberada!!"
   ]
  },
  {
   "cell_type": "code",
   "execution_count": null,
   "metadata": {},
   "outputs": [],
   "source": [
    "# Importe a biblioteca pandas\n",
    "import pandas as pd\n",
    "import numpy as np"
   ]
  },
  {
   "cell_type": "markdown",
   "metadata": {},
   "source": [
    "### 4.7 Escreva uma função para retornar um dataframe cujos valores de uma dada coluna sejam maiores do que um valor passado como argumento (threshold).\n",
    "#### Para a validação, o teste (assert) utiliza o threshold=800. \n",
    "#### Por curiosidade, se já souber plotar um gráfico boxplot,  plote-o com os dados de custo médio de internação agregados. Se não souber, espere até a próxima aula."
   ]
  },
  {
   "cell_type": "code",
   "execution_count": 5,
   "metadata": {
    "deletable": false,
    "nbgrader": {
     "cell_type": "code",
     "checksum": "68ba21234b6ea4779e9b643d5fd0796e",
     "grade": false,
     "grade_id": "cell-919c16309d90227d",
     "locked": false,
     "schema_version": 3,
     "solution": true,
     "task": false
    }
   },
   "outputs": [],
   "source": [
    "def get_outliers_morbidade(df_internacoes, col, threshold):\n",
    "    \"\"\"retorne um dataframe cujos valores da coluna col sejam maiores que threshold.\n",
    "    \"\"\"\n",
    "    # YOUR CODE HERE\n",
    "    return df_internacoes[df_internacoes[col] > threshold]"
   ]
  },
  {
   "cell_type": "code",
   "execution_count": 18,
   "metadata": {},
   "outputs": [
    {
     "data": {
      "text/plain": [
       "<AxesSubplot:>"
      ]
     },
     "execution_count": 18,
     "metadata": {},
     "output_type": "execute_result"
    },
    {
     "data": {
      "image/png": "[encoded data removed]",
      "text/plain": [
       "<Figure size 432x288 with 1 Axes>"
      ]
     },
     "metadata": {
      "needs_background": "light"
     },
     "output_type": "display_data"
    }
   ],
   "source": [
    "# Faça seus testes aqui\n",
    "%run ../Aula4_Ex05/Aula4_Ex05.ipynb\n",
    "%run ../Aula4_Ex06/Aula4_Ex06.ipynb\n",
    "path_morbidade = '../../curso_ciencia_dados2020/data/originais/morbidade/consolidado/morbidade.csv'\n",
    "path_pop = '../../curso_ciencia_dados2020/data/originais/populacao/estimativa_dou_2017.xlsx'\n",
    "col='custo_medio_diario_intern'\n",
    "threshold=800\n",
    "test_data = {'Valor_total': 125334.1, 'Internações': 41.0, 'Dias_permanência': 113.0,\n",
    "             'custo_medio_diario_intern': 1109.2}\n",
    "df_morbidade_pop = merge_morbidade_pop(path_pop, path_morbidade)\n",
    "df_internacoes = custo_medio_internacao_agregado(df_morbidade_pop)\n",
    "#df_internacoes\n",
    "data_nova_braslandia = get_outliers_morbidade(df_internacoes, col, threshold).loc['MT','Nova Brasilândia']\n",
    "data_nova_braslandia = data_nova_braslandia.apply(lambda x: round(x, 1))\n",
    "\n",
    "df_internacoes.boxplot(column=\"custo_medio_diario_intern\")\n",
    "\n",
    "#data_nova_braslandia.to_dict() == test_data"
   ]
  },
  {
   "cell_type": "code",
   "execution_count": 12,
   "metadata": {
    "deletable": false,
    "editable": false,
    "nbgrader": {
     "cell_type": "code",
     "checksum": "56d3b1b15639eb84dd5a8c510cea5186",
     "grade": true,
     "grade_id": "cell-b656ffe7cf513a14",
     "locked": true,
     "points": 1,
     "schema_version": 3,
     "solution": false,
     "task": false
    }
   },
   "outputs": [],
   "source": [
    "# Validação para nota\n",
    "%run ../Aula4_Ex05/Aula4_Ex05.ipynb\n",
    "%run ../Aula4_Ex06/Aula4_Ex06.ipynb\n",
    "path_morbidade = '../../curso_ciencia_dados2020/data/originais/morbidade/consolidado/morbidade.csv'\n",
    "path_pop = '../../curso_ciencia_dados2020/data/originais/populacao/estimativa_dou_2017.xlsx'\n",
    "col='custo_medio_diario_intern'\n",
    "threshold=800\n",
    "test_data = {'Valor_total': 125334.1, 'Internações': 41.0, 'Dias_permanência': 113.0,\n",
    "             'custo_medio_diario_intern': 1109.2}\n",
    "\n",
    "df_morbidade_pop = merge_morbidade_pop(path_pop, path_morbidade)\n",
    "df_internacoes = custo_medio_internacao_agregado(df_morbidade_pop)\n",
    "data_nova_braslandia = get_outliers_morbidade(df_internacoes, col, threshold).loc['MT','Nova Brasilândia']\n",
    "data_nova_braslandia = data_nova_braslandia.apply(lambda x: round(x, 1))\n",
    "\n",
    "assert data_nova_braslandia.to_dict() == test_data"
   ]
  },
  {
   "cell_type": "code",
   "execution_count": null,
   "metadata": {},
   "outputs": [],
   "source": []
  }
 ],
 "metadata": {
  "kernelspec": {
   "display_name": "Python 3",
   "language": "python",
   "name": "python3"
  },
  "language_info": {
   "codemirror_mode": {
    "name": "ipython",
    "version": 3
   },
   "file_extension": ".py",
   "mimetype": "text/x-python",
   "name": "python",
   "nbconvert_exporter": "python",
   "pygments_lexer": "ipython3",
   "version": "3.8.4"
  }
 },
 "nbformat": 4,
 "nbformat_minor": 4
}

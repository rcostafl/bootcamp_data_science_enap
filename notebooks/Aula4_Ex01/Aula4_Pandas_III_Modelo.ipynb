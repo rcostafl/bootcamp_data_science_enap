{
 "cells": [
  {
   "cell_type": "markdown",
   "metadata": {},
   "source": [
    "## Aula 4 - Agregação com Pandas e Conceitos de Estatística"
   ]
  },
  {
   "cell_type": "markdown",
   "metadata": {},
   "source": [
    "### Agregação com Pandas"
   ]
  },
  {
   "cell_type": "code",
   "execution_count": null,
   "metadata": {},
   "outputs": [],
   "source": [
    "import pandas as pd\n",
    "import numpy as np"
   ]
  },
  {
   "cell_type": "markdown",
   "metadata": {},
   "source": [
    "#### Exemplo de Group By com Pandas"
   ]
  },
  {
   "cell_type": "code",
   "execution_count": null,
   "metadata": {},
   "outputs": [],
   "source": [
    "# Criando um dataframe\n",
    "df = pd.DataFrame({'key1' : ['a', 'a', 'b', 'b', 'a'], \n",
    "                   'key2' : ['one', 'two', 'one', 'two', 'one'],\n",
    "                   'data1' : np.random.randn(5), 'data2' : np.random.randn(5)})\n",
    "df"
   ]
  },
  {
   "cell_type": "code",
   "execution_count": null,
   "metadata": {},
   "outputs": [],
   "source": [
    "# Criar um objeto de agrupamento da coluna data1 agrupando por key1\n",
    "grouped = None\n",
    "# Veja que o resultado retornado é um objeto Pyhton SeriesGroupBy \n",
    "grouped"
   ]
  },
  {
   "cell_type": "code",
   "execution_count": null,
   "metadata": {},
   "outputs": [],
   "source": [
    "# Aplicando a métrica Média (mean) sobre esse objeto de agrupamento\n",
    "# Perceba que a média sobre o objeto SeriesGroupBy vai retornar uma Series como resultado,\n",
    "#   e o índice será a coluna de agrupamento key1\n"
   ]
  },
  {
   "cell_type": "markdown",
   "metadata": {},
   "source": [
    "#### Agregação com duas colunas"
   ]
  },
  {
   "cell_type": "code",
   "execution_count": null,
   "metadata": {},
   "outputs": [],
   "source": [
    "# Criar um objeto de agrupamento da coluna data1 agrupando por key1 e key2\n",
    "means = None\n",
    "# Veja que means é uma Series com índices key1 e key2\n",
    "means"
   ]
  },
  {
   "cell_type": "code",
   "execution_count": null,
   "metadata": {},
   "outputs": [],
   "source": [
    "# Curiosidade: você pode pivotar essa série com o médoto unstack()\n",
    "means.unstack()"
   ]
  },
  {
   "cell_type": "markdown",
   "metadata": {},
   "source": [
    "#### Agregação com vetor do tamanho do índice"
   ]
  },
  {
   "cell_type": "code",
   "execution_count": null,
   "metadata": {},
   "outputs": [],
   "source": [
    "# Considere o dataframe df definido anteriormente e os arrays states e years\n",
    "states = np.array(['Ohio', 'California', 'California', 'Ohio', 'Ohio'])\n",
    "years = np.array([2005, 2005, 2006, 2005, 2006])\n",
    "# Crie um agrupamento da coluna data1 considerando como colunas de agrupamento os arrays\n",
    "#    states e years\n"
   ]
  },
  {
   "cell_type": "markdown",
   "metadata": {},
   "source": [
    "#### Aplicando a métrica em todas as colunas de dados"
   ]
  },
  {
   "cell_type": "code",
   "execution_count": null,
   "metadata": {},
   "outputs": [],
   "source": [
    "# Agrupe o dataframe df por key1 e extraia a média de todas as colunas\n"
   ]
  },
  {
   "cell_type": "code",
   "execution_count": null,
   "metadata": {},
   "outputs": [],
   "source": [
    "# perceba que o objeto retornado pelo agrupamento do dataframe inteiro é \n",
    "#   um DataFrameGroupBy \n"
   ]
  },
  {
   "cell_type": "code",
   "execution_count": null,
   "metadata": {},
   "outputs": [],
   "source": [
    "# Agrupe o dataframe inteiro pelas colunas key1 e key2 calculando o valor da média\n",
    "#    para as outras colunas.\n"
   ]
  },
  {
   "cell_type": "markdown",
   "metadata": {},
   "source": [
    "#### Mostrando o tamanho dos grupos"
   ]
  },
  {
   "cell_type": "code",
   "execution_count": null,
   "metadata": {},
   "outputs": [],
   "source": [
    "# Mostre o tamanho dos grupos de um agrupamento do dataframe df pelas colunas key1 e key2\n"
   ]
  },
  {
   "cell_type": "markdown",
   "metadata": {},
   "source": [
    "#### Agrupando com uma função"
   ]
  },
  {
   "cell_type": "code",
   "execution_count": null,
   "metadata": {},
   "outputs": [],
   "source": [
    "# Considere o seguinte dataframe\n",
    "people = pd.DataFrame(np.random.randn(5, 5),columns=['a', 'b', 'c', 'd', 'e'], \n",
    "                      index=['Joe', 'Steve', 'Wes', 'Jim', 'Travis'])\n",
    "people.iloc[2:3, [1, 2]] = np.nan # Adicionando alguns valores NA\n",
    "people"
   ]
  },
  {
   "cell_type": "code",
   "execution_count": null,
   "metadata": {},
   "outputs": [],
   "source": [
    "# Agrupe o dataframe people pelo tamanho das strings do indice retornando a soma de cada\n",
    "#    grupo.\n"
   ]
  },
  {
   "cell_type": "markdown",
   "metadata": {},
   "source": [
    "#### Aplicando várias métricas ao mesmo tempo"
   ]
  },
  {
   "cell_type": "code",
   "execution_count": null,
   "metadata": {},
   "outputs": [],
   "source": [
    "# Considere o seguinte dataset de gorgetas (tips)\n",
    "import pandas as pd\n",
    "import io # Biblioteca com funções de IO (dentre elas de Strings)\n",
    "import requests #Biblioteca para fazer requisições HTTP\n",
    "url=\"https://raw.githubusercontent.com/wesm/pydata-book/2nd-edition/examples/tips.csv\"\n",
    "s=requests.get(url).content\n",
    "tips=pd.read_csv(io.StringIO(s.decode('utf-8')))\n",
    "tips.head()"
   ]
  },
  {
   "cell_type": "code",
   "execution_count": null,
   "metadata": {},
   "outputs": [],
   "source": [
    "# Adiciona uma coluna para calcular a porcentage da gorjeta em relação ao valor da conta\n",
    "tips['tip_pct'] = tips['tip'] / tips['total_bill']\n",
    "tips[:6]"
   ]
  },
  {
   "cell_type": "code",
   "execution_count": null,
   "metadata": {},
   "outputs": [],
   "source": [
    "# Agrupar por dia da semana (day) e fumante (smoker)\n"
   ]
  },
  {
   "cell_type": "code",
   "execution_count": null,
   "metadata": {},
   "outputs": [],
   "source": [
    "# Pegar um slice (uma fatia) do objeto de agrupamento com apenas a coluna tip_pct\n",
    "grouped_pct = None"
   ]
  },
  {
   "cell_type": "code",
   "execution_count": null,
   "metadata": {},
   "outputs": [],
   "source": [
    "# Calcular a média deste agrupamento\n"
   ]
  },
  {
   "cell_type": "code",
   "execution_count": null,
   "metadata": {},
   "outputs": [],
   "source": [
    "# Considere a função para retornar o intervalo de variação de um array\n",
    "def peak_to_peak(arr):\n",
    "    return arr.max() - arr.min()"
   ]
  },
  {
   "cell_type": "code",
   "execution_count": null,
   "metadata": {},
   "outputs": [],
   "source": [
    "# Escreva numa só sentença a aplicação das métricas média, desvio padrão (std) \n",
    "#   e peak_to_peak ao slice do agrupamento criado acima\n"
   ]
  },
  {
   "cell_type": "markdown",
   "metadata": {},
   "source": [
    "#### Várias métricas em diferentes colunas"
   ]
  },
  {
   "cell_type": "code",
   "execution_count": null,
   "metadata": {},
   "outputs": [],
   "source": [
    "# Usando um dicionário para mapear as colunas e suas respectivas métricas, aplique\n",
    "#     à coluna tip_pct as métricas 'min', 'max', 'mean', 'std' e \n"
   ]
  },
  {
   "cell_type": "markdown",
   "metadata": {},
   "source": [
    "### Conceitos básicos de Estatística Descritiva"
   ]
  },
  {
   "cell_type": "markdown",
   "metadata": {},
   "source": [
    "#### Variaveis categóricas"
   ]
  },
  {
   "cell_type": "code",
   "execution_count": null,
   "metadata": {},
   "outputs": [],
   "source": [
    "# Categorias são inferidas a partir dos dados e são não ordenadas\n",
    "df = pd.DataFrame({'A': list('abca'), 'B': list('bccd')}, dtype=\"category\")\n",
    "df_cat = df.astype('category')\n",
    "df_cat.dtypes"
   ]
  },
  {
   "cell_type": "code",
   "execution_count": null,
   "metadata": {},
   "outputs": [],
   "source": [
    "# Também é possível converter os tipos de um dataframe para category\n",
    "df = pd.DataFrame({'A': list('abca'), 'B': list('bccd')})\n",
    "df_cat = df.astype('category')\n",
    "df_cat.dtypes"
   ]
  },
  {
   "cell_type": "code",
   "execution_count": null,
   "metadata": {},
   "outputs": [],
   "source": [
    "# Criando dados categóricos ordenados\n",
    "from pandas.api.types import CategoricalDtype\n",
    "s = pd.Series([\"a\", \"b\", \"c\", \"a\"])\n",
    "cat_type = CategoricalDtype(categories=[\"b\", \"c\", \"d\"], ordered=True)\n",
    "s_cat = s.astype(cat_type)\n",
    "s_cat"
   ]
  },
  {
   "cell_type": "markdown",
   "metadata": {},
   "source": [
    "#### Amostragem"
   ]
  },
  {
   "cell_type": "code",
   "execution_count": null,
   "metadata": {},
   "outputs": [],
   "source": [
    "# Considere o seguinte dataframe  \n",
    "df = pd.DataFrame({'num_legs': [2, 4, 8, 0],\n",
    "                   'num_wings': [2, 0, 0, 0],\n",
    "                   'num_specimen_seen': [10, 2, 1, 8]},\n",
    "                  index=['falcon', 'dog', 'spider', 'fish'])\n",
    "df"
   ]
  },
  {
   "cell_type": "code",
   "execution_count": null,
   "metadata": {},
   "outputs": [],
   "source": [
    "# Criar, com o método sample, uma amostra aleatória de 3 elementos com um \n",
    "# estado aleatório conhecido. O estado aleatorio é utilizado para assegurar\n",
    "# reproducibilidade de um experimento.\n"
   ]
  },
  {
   "cell_type": "code",
   "execution_count": null,
   "metadata": {},
   "outputs": [],
   "source": [
    "# Criar uma amostra aleatoria com 50% dos elementos, estado aleatório conhecido e \n",
    "# com reposição\n"
   ]
  },
  {
   "cell_type": "code",
   "execution_count": null,
   "metadata": {},
   "outputs": [],
   "source": [
    "# Pode-se fazer um upsample, mas o parâmetro replace deve ser True\n"
   ]
  },
  {
   "cell_type": "code",
   "execution_count": null,
   "metadata": {},
   "outputs": [],
   "source": [
    "# Histograma\n",
    "mm = 168 # média \n",
    "sigmam = 5 # desvio padrão\n",
    "samples = 250\n",
    "np.random.seed(0)\n",
    "altura_m = np.random.normal(mm, sigmam, samples).astype(int)\n",
    "\n",
    "mh = 176 # média\n",
    "sigmah = 6 # desvio padrão\n",
    "sample = 250\n",
    "np.random.seed(1)\n",
    "altura_h = np.random.normal(mh, sigmah, sample).astype(int)\n",
    "df_altura = pd.DataFrame({'altura_h': altura_h, 'altura_m': altura_m})\n",
    "df_altura.head()"
   ]
  },
  {
   "cell_type": "code",
   "execution_count": null,
   "metadata": {},
   "outputs": [],
   "source": [
    "# Criar o histograma dos dados no dataframe df_altura\n",
    "df_altura.hist()"
   ]
  },
  {
   "cell_type": "code",
   "execution_count": null,
   "metadata": {},
   "outputs": [],
   "source": [
    "# Criar o histograma dos dados no dataframe df_altura especificando a quantidade de bins \n",
    "df_altura.hist(bins=30)"
   ]
  },
  {
   "cell_type": "markdown",
   "metadata": {},
   "source": [
    "#### Mediana"
   ]
  },
  {
   "cell_type": "code",
   "execution_count": null,
   "metadata": {},
   "outputs": [],
   "source": [
    "# Considere o seguinte dataframe  \n",
    "df = pd.DataFrame({\"a\":[112, 42, 5, 1, 1, 1, 1, 2, 7,8], \n",
    "                   \"b\":[37, 42, 5424, 311, 5345, 1234, 9098, 1, 5, None],  \n",
    "                   \"c\":[210, 416, 114, None, 8, 5, 6, 23, 67, 234],  \n",
    "                   \"d\":[144, 23, 1, 45, 890, 1, 234, 43, 12, 62]}) \n",
    "df"
   ]
  },
  {
   "cell_type": "code",
   "execution_count": null,
   "metadata": {},
   "outputs": [],
   "source": [
    "# Calcule a mediana dos valores das colunas (axis=0)\n",
    "df.median(axis = 0, skipna = True) "
   ]
  },
  {
   "cell_type": "markdown",
   "metadata": {},
   "source": [
    "#### Quartis"
   ]
  },
  {
   "cell_type": "code",
   "execution_count": null,
   "metadata": {},
   "outputs": [],
   "source": [
    "# Considere o seguinte dataframe do PIB dos municípios\n",
    "path_pib = '../../../curso_ciencia_dados2020/data/originais/pib/pib_municipios.xlsx'\n",
    "df_pib = pd.read_excel(path_pib, skiprows=3, skipfooter=1, \n",
    "                       dtype={'Unnamed: 1': str, '2007': str}) \n",
    "\n",
    "# Descobrindo porque ao ocorre um erro ao se tentar ler a coluna 2007 como numero \n",
    "df_pib.loc[df_pib['2007'].apply(len) < 4,'2007']\n",
    "# É porque os valores NA estão representados por ...\n",
    "# Ler novamente o dataset especificando a string de NA\n",
    "df_pib = pd.read_excel(path_pib, skiprows=3, skipfooter=1, na_values='...',\n",
    "                       dtype={'Unnamed: 1': str, '2007': float, '2009': float, '2011': float})\n",
    "\n",
    "df_pib.rename(columns={'Unnamed: 0': 'nivel', 'Unnamed: 1': 'cod_ibge7', \n",
    "                           'Unnamed: 2': 'municipio'}, inplace=True)"
   ]
  },
  {
   "cell_type": "code",
   "execution_count": null,
   "metadata": {},
   "outputs": [],
   "source": [
    "# Calcular os quartis 0.25, .5, .75 e o percentil 0.9 do dataframe do PIB em todos os\n",
    "#   anos presentes no dataset.\n"
   ]
  },
  {
   "cell_type": "code",
   "execution_count": null,
   "metadata": {},
   "outputs": [],
   "source": [
    "# Plotar num gráfico de linhas os percentis ao longo dos anos\n",
    "# quartis.T retorna o dataframe transposto \n"
   ]
  },
  {
   "cell_type": "code",
   "execution_count": null,
   "metadata": {},
   "outputs": [],
   "source": [
    "# Plote o boxplot de cada um dos anos ['2017', '2013', '2011'] do dataset do PIB\n"
   ]
  }
 ],
 "metadata": {
  "kernelspec": {
   "display_name": "Python 3",
   "language": "python",
   "name": "python3"
  },
  "language_info": {
   "codemirror_mode": {
    "name": "ipython",
    "version": 3
   },
   "file_extension": ".py",
   "mimetype": "text/x-python",
   "name": "python",
   "nbconvert_exporter": "python",
   "pygments_lexer": "ipython3",
   "version": "3.6.10"
  }
 },
 "nbformat": 4,
 "nbformat_minor": 4
}

{
 "cells": [
  {
   "cell_type": "markdown",
   "metadata": {},
   "source": [
    "# Aula 4 - Exercícios - Agregação com Pandas e Conceitos de Estatística\n",
    "### Consulta a internet (Google, Stackoverflow e etc) liberada!!"
   ]
  },
  {
   "cell_type": "code",
   "execution_count": 3,
   "metadata": {},
   "outputs": [],
   "source": [
    "# Importe a biblioteca pandas\n",
    "import pandas as pd\n",
    "import numpy as np"
   ]
  },
  {
   "cell_type": "markdown",
   "metadata": {},
   "source": [
    "### 4.1 Escreva uma função para ler os dados de PIB e população dos datasets disponibilizados e retornar um dataframe com a agregação por Estados e as métricas soma, média e mediana do PIB de 2017 e da população de todos os Estados brasileiros.\n",
    "#### Você pode se basear na sua resolução dos exercícios da Aula 3.\n"
   ]
  },
  {
   "cell_type": "code",
   "execution_count": 41,
   "metadata": {
    "deletable": false,
    "nbgrader": {
     "cell_type": "code",
     "checksum": "09a1c3a73612084a3041c46b6120e674",
     "grade": false,
     "grade_id": "cell-c705ab9d11473b9f9",
     "locked": false,
     "schema_version": 3,
     "solution": true,
     "task": false
    }
   },
   "outputs": [],
   "source": [
    "# Dica: Baseie seu código na sua solução do exercício da aula 3 que faz o merge dos\n",
    "#       datasets do PIB e da população.\n",
    "\n",
    "def aggregate_pib_pop(path_pop, path_pib):\n",
    "    \"\"\"retorne um dataframe com a agregação por Estados e as métricas soma, média, mediana\n",
    "       e o desvio padrão do PIB de 2017 e da população de todos os Estados brasileiros.\n",
    "    \"\"\"\n",
    "    # YOUR CODE HERE\n",
    "    df_pib = pd.read_excel(path_pib, sheet_name='Tabela', skiprows=3, skipfooter=1, header=0) \n",
    "    df_pop = pd.read_excel(path_pop, sheet_name=\"Municipios\", header=0)\n",
    "    df_pib.rename(columns={\"Unnamed: 0\":\"nivel\", \"Unnamed: 1\": \"cod_ibge7\", \"Unnamed: 2\":\"municipio\"}, inplace=True)\n",
    "\n",
    "    df_pop[\"cod_ibge7\"] = df_pop[\"cod_uf\"].astype(dtype='string') + df_pop['cod_munic'].astype(dtype=\"string\").str.zfill(5)\n",
    "    df_pib[\"cod_ibge7\"] = df_pib[\"cod_ibge7\"].astype(dtype=\"string\")\n",
    "\n",
    "    df_pip_pop = pd.merge(df_pop, df_pib, on=\"cod_ibge7\")\n",
    "    \n",
    "    grouped = df_pip_pop[[\"2017\",\"pop2017\"]].groupby(df_pip_pop[\"uf\"])\n",
    "    \n",
    "    \n",
    "    return grouped.agg(['mean','std', 'median', 'sum'])\n",
    "\n"
   ]
  },
  {
   "cell_type": "code",
   "execution_count": 42,
   "metadata": {},
   "outputs": [
    {
     "data": {
      "text/plain": [
       "{('2017', 'mean'): 648684.6,\n",
       " ('2017', 'std'): 1695166.9,\n",
       " ('2017', 'median'): 229775.0,\n",
       " ('2017', 'sum'): 14271061.0,\n",
       " ('pop2017', 'mean'): 37710.0,\n",
       " ('pop2017', 'std'): 79036.0,\n",
       " ('pop2017', 'median'): 17903.5,\n",
       " ('pop2017', 'sum'): 829619.0}"
      ]
     },
     "execution_count": 42,
     "metadata": {},
     "output_type": "execute_result"
    }
   ],
   "source": [
    "## Faça seus testes aqui\n",
    "path_pib = '../../curso_ciencia_dados2020/data/originais/pib/pib_municipios.xlsx'\n",
    "path_pop='../../curso_ciencia_dados2020/data/originais/populacao/estimativa_dou_2017.xlsx'\n",
    "\n",
    "aggregate_pib_pop(path_pop, path_pib).loc['AC'].apply(lambda x: round(x,1)).to_dict()\n"
   ]
  },
  {
   "cell_type": "code",
   "execution_count": 43,
   "metadata": {
    "deletable": false,
    "editable": false,
    "nbgrader": {
     "cell_type": "code",
     "checksum": "19acedf767ee593748a2345ec9439194",
     "grade": true,
     "grade_id": "cell-9ffdsa88d58e9282a",
     "locked": true,
     "points": 1,
     "schema_version": 3,
     "solution": false,
     "task": false
    }
   },
   "outputs": [],
   "source": [
    "# Validação para nota\n",
    "path_pib = '../../curso_ciencia_dados2020/data/originais/pib/pib_municipios.xlsx'\n",
    "path_pop='../../curso_ciencia_dados2020/data/originais/populacao/estimativa_dou_2017.xlsx'\n",
    "test_data = {('pop2017', 'sum'): 829619.0,\n",
    " ('pop2017', 'mean'): 37710.0,\n",
    " ('pop2017', 'median'): 17903.5,\n",
    " ('pop2017', 'std'): 79036.0,\n",
    " ('2017', 'sum'): 14271061.0,\n",
    " ('2017', 'mean'): 648684.6,\n",
    " ('2017', 'median'): 229775.0,\n",
    " ('2017', 'std'): 1695166.9}\n",
    "results_ac = aggregate_pib_pop(path_pop, path_pib).loc['AC'].apply(lambda x: round(x,1))\n",
    "\n",
    "assert results_ac.to_dict() == test_data"
   ]
  },
  {
   "cell_type": "code",
   "execution_count": null,
   "metadata": {},
   "outputs": [],
   "source": []
  }
 ],
 "metadata": {
  "kernelspec": {
   "display_name": "Python 3",
   "language": "python",
   "name": "python3"
  },
  "language_info": {
   "codemirror_mode": {
    "name": "ipython",
    "version": 3
   },
   "file_extension": ".py",
   "mimetype": "text/x-python",
   "name": "python",
   "nbconvert_exporter": "python",
   "pygments_lexer": "ipython3",
   "version": "3.8.4"
  }
 },
 "nbformat": 4,
 "nbformat_minor": 4
}

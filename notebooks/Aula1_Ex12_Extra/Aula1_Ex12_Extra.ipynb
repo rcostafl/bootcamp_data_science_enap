{
 "cells": [
  {
   "cell_type": "markdown",
   "metadata": {},
   "source": [
    "# Aula 1 - Exercícios Extra - Sintaxe de Python e NumPy Array\n",
    "### Consulta a internet (Google, Stackoverflow e etc) liberada!!"
   ]
  },
  {
   "cell_type": "markdown",
   "metadata": {},
   "source": [
    "### 1.12 Escreva uma função que receba uma lista de inteiros como parâmetro e retorne um dicionário com as chaves sendo os elementos da lista, e os valores sendo os elementos da mesma lista, mas na ordem inversa.\n",
    "#### Exemplo: para a lista [1, 2, 3, 4, 5]\n",
    "#### Resultado esperado: {1: 5, 2: 4, 3: 3, 4: 2, 5: 1}"
   ]
  },
  {
   "cell_type": "code",
   "execution_count": 28,
   "metadata": {
    "deletable": false,
    "nbgrader": {
     "cell_type": "code",
     "checksum": "c9ebeab6f1b44f692210310a11663923",
     "grade": false,
     "grade_id": "cell-2e044a5f0541da37",
     "locked": false,
     "schema_version": 3,
     "solution": true,
     "task": false
    }
   },
   "outputs": [],
   "source": [
    "# Dica: use a função zip. Ela retorna itens agrupados dois a dois.\n",
    "def create_dict(lista):\n",
    "    \"\"\"retorne o maior item da lista\n",
    "    \"\"\"\n",
    "    # YOUR CODE HERE\n",
    "    list_reversed = lista.copy()\n",
    "    list_reversed.reverse()\n",
    "    \n",
    "    dictionary = {}\n",
    "    \n",
    "    for element in list(zip(lista, list_reversed)):\n",
    "        key = element[0]\n",
    "        value = element[1]\n",
    "        dictionary[key] = value\n",
    "    \n",
    "    return dictionary\n",
    "    #raise NotImplementedError()"
   ]
  },
  {
   "cell_type": "code",
   "execution_count": 29,
   "metadata": {},
   "outputs": [
    {
     "name": "stdout",
     "output_type": "stream",
     "text": [
      "{1: 5, 2: 4, 3: 3, 4: 2, 5: 1}\n"
     ]
    }
   ],
   "source": [
    "## Faça seus testes aqui\n",
    "print(create_dict([1, 2, 3, 4, 5]))\n"
   ]
  },
  {
   "cell_type": "code",
   "execution_count": 30,
   "metadata": {
    "deletable": false,
    "editable": false,
    "nbgrader": {
     "cell_type": "code",
     "checksum": "d56d75f08c5c1eda21c7af1468664296",
     "grade": true,
     "grade_id": "cell-5bd4079b37b6a7f3",
     "locked": true,
     "points": 1,
     "schema_version": 3,
     "solution": false,
     "task": false
    }
   },
   "outputs": [],
   "source": [
    "# Validação para nota\n",
    "assert create_dict([1, 2, 3, 4, 5]) == {1: 5, 2: 4, 3: 3, 4: 2, 5: 1}\n",
    "assert create_dict([-100,-1580,-1,-9100,-77]) == {-100: -77, -1580: -9100, -1: -1, -9100: -1580, -77: -100}"
   ]
  },
  {
   "cell_type": "code",
   "execution_count": null,
   "metadata": {},
   "outputs": [],
   "source": []
  }
 ],
 "metadata": {
  "kernelspec": {
   "display_name": "Python 3",
   "language": "python",
   "name": "python3"
  },
  "language_info": {
   "codemirror_mode": {
    "name": "ipython",
    "version": 3
   },
   "file_extension": ".py",
   "mimetype": "text/x-python",
   "name": "python",
   "nbconvert_exporter": "python",
   "pygments_lexer": "ipython3",
   "version": "3.8.4"
  }
 },
 "nbformat": 4,
 "nbformat_minor": 4
}

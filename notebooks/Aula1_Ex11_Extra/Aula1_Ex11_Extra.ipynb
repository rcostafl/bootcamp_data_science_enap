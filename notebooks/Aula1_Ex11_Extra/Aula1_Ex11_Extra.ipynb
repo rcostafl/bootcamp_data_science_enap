{
 "cells": [
  {
   "cell_type": "markdown",
   "metadata": {},
   "source": [
    "# Aula 1 - Exercícios Extra - Sintaxe de Python e NumPy Array\n",
    "### Consulta a internet (Google, Stackoverflow e etc) liberada!!"
   ]
  },
  {
   "cell_type": "markdown",
   "metadata": {},
   "source": [
    "### 1.11 Escreva uma função em Python receba como parâmetro duas listas de numeros inteiros e retorne os elementos que são comuns entre elas (sem repetição). Use a sintaxe inline (list comprehension).\n",
    "##### Exemplo: a = [1, 1, 2, 3, 5, 8, 13, 21, 34, 55, 89] e b = [1, 2, 3, 4, 5, 6, 7, 8, 9, 10, 11, 12, 13]\n",
    "##### Resultado esperado: "
   ]
  },
  {
   "cell_type": "code",
   "execution_count": 43,
   "metadata": {
    "deletable": false,
    "nbgrader": {
     "cell_type": "code",
     "checksum": "daa1f2d5a15359505e8852aec1249589",
     "grade": false,
     "grade_id": "cell-a2f686fdd79e4f51",
     "locked": false,
     "schema_version": 3,
     "solution": true,
     "task": false
    }
   },
   "outputs": [],
   "source": [
    "# Dica 1: aninhe na mesma instrução o loope (for) e a condição (if)\n",
    "# Dica 2: se ao final sua lista contiver repetições, transforme a lista num conjunto com o\n",
    "# construtor de conjuntos set(), pois os sets não contêm repetições.\n",
    "def intersecao(a, b):\n",
    "    \"\"\"retorne os valor presentes nas duas listas\n",
    "    \"\"\"\n",
    "    # YOUR CODE HERE\n",
    "    #return set([n if n in b else None for n in a])\n",
    "    return list(set([x for x in a if x in b]))\n",
    "    #raise NotImplementedError()"
   ]
  },
  {
   "cell_type": "code",
   "execution_count": 44,
   "metadata": {},
   "outputs": [
    {
     "name": "stdout",
     "output_type": "stream",
     "text": [
      "[1, 2, 3, 5, 8, 13]\n"
     ]
    }
   ],
   "source": [
    "## Faça seus testes aqui\n",
    "a = [1, 1, 2, 3, 5, 8, 13, 21, 34, 55, 89] \n",
    "b = [1, 2, 3, 4, 5, 6, 7, 8, 9, 10, 11, 12, 13]\n",
    "#print(\"sim\") if 800 in a else None\n",
    "#inter = intersecao(a,b) \n",
    "#inter.remove(None)\n",
    "print(intersecao(a,b) )"
   ]
  },
  {
   "cell_type": "code",
   "execution_count": 45,
   "metadata": {
    "deletable": false,
    "editable": false,
    "nbgrader": {
     "cell_type": "code",
     "checksum": "bc988f9599dcf2b1d68b172118958678",
     "grade": true,
     "grade_id": "cell-5412543179b17057",
     "locked": true,
     "points": 1,
     "schema_version": 3,
     "solution": false,
     "task": false
    }
   },
   "outputs": [],
   "source": [
    "# Validação para nota\n",
    "a = [1, 1, 2, 3, 5, 8, 13, 21, 34, 55, 89] \n",
    "b = [1, 2, 3, 4, 5, 6, 7, 8, 9, 10, 11, 12, 13]\n",
    "assert intersecao(a,b) == [1, 2, 3, 5, 8, 13]"
   ]
  },
  {
   "cell_type": "code",
   "execution_count": null,
   "metadata": {},
   "outputs": [],
   "source": []
  }
 ],
 "metadata": {
  "kernelspec": {
   "display_name": "Python 3",
   "language": "python",
   "name": "python3"
  },
  "language_info": {
   "codemirror_mode": {
    "name": "ipython",
    "version": 3
   },
   "file_extension": ".py",
   "mimetype": "text/x-python",
   "name": "python",
   "nbconvert_exporter": "python",
   "pygments_lexer": "ipython3",
   "version": "3.8.4"
  }
 },
 "nbformat": 4,
 "nbformat_minor": 4
}

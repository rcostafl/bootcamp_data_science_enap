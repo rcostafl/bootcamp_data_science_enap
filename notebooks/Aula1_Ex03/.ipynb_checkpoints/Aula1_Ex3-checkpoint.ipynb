{
 "cells": [
  {
   "cell_type": "markdown",
   "metadata": {},
   "source": [
    "# Aula 1 - Exercícios - Sintaxe de Python e NumPy Array\n",
    "### Consulta a internet (Google, Stackoverflow e etc) liberada!!"
   ]
  },
  {
   "cell_type": "markdown",
   "metadata": {},
   "source": [
    "### 1.3 Escreva uma função contar a quantidade de strings, presentes numa lista, cujo tamanho é maior que 2 e o primeiro e último caracteres são os mesmos\n",
    "\n",
    "#### Exemplo:  ['abc', 'xyz', 'aba', '1221']\n",
    "#### Resultado esperado : 2\n"
   ]
  },
  {
   "cell_type": "code",
   "execution_count": 10,
   "metadata": {
    "deletable": false,
    "nbgrader": {
     "cell_type": "code",
     "checksum": "020de6aabacc9797738bf5ba93f9fa83",
     "grade": false,
     "grade_id": "cell-5420c3983940f212",
     "locked": false,
     "schema_version": 3,
     "solution": true,
     "task": false
    }
   },
   "outputs": [],
   "source": [
    "# Dica 1: A função len retorna o tamanho da string. Exemplo: len('abc'), retorna 3\n",
    "# Dica 2: Uma string é uma lista de caracteres\n",
    "def contagem(lista):\n",
    "    \"\"\"retorne o maior item da lista\n",
    "    \"\"\"\n",
    "    # YOUR CODE HERE\n",
    "    count = 0\n",
    "    \n",
    "    # Iterates over every string in the list\n",
    "    for string in lista:\n",
    "        # Tests if the string size is grater than 2 and if the first and the last char are equals\n",
    "        if len(string) > 2 and string[0] == string[-1]:\n",
    "            # if the condition is satisfied, the count increases in one\n",
    "            count = count + 1\n",
    "    \n",
    "    # after the loop, returns the total of the count\n",
    "    return count\n",
    "    #raise NotImplementedError()"
   ]
  },
  {
   "cell_type": "code",
   "execution_count": 15,
   "metadata": {},
   "outputs": [
    {
     "data": {
      "text/plain": [
       "\"def contagem(lista):\\n    count  = 0\\n    for string in lista:\\n        if len(string) > 2 and string[0] == string[-1]:\\n            count = count + 1 \\n\\n    return count\\n\\nprint(contagem(['aaa', 'bbb', 'ccc']))\\nassert contagem(['abc', 'xyz', 'aba', '1221']) == 2\\nassert contagem(['', 'xyzaaaaaaaaa', 'aa', 'babababa']) == 0\""
      ]
     },
     "execution_count": 15,
     "metadata": {},
     "output_type": "execute_result"
    }
   ],
   "source": [
    "## Faça seus testes aqui\n",
    "# do nothing\n",
    "'''def contagem(lista):\n",
    "    count  = 0\n",
    "    for string in lista:\n",
    "        if len(string) > 2 and string[0] == string[-1]:\n",
    "            count = count + 1 \n",
    "\n",
    "    return count\n",
    "\n",
    "print(contagem(['aaa', 'bbb', 'ccc']))\n",
    "assert contagem(['abc', 'xyz', 'aba', '1221']) == 2\n",
    "assert contagem(['', 'xyzaaaaaaaaa', 'aa', 'babababa']) == 0'''\n"
   ]
  },
  {
   "cell_type": "code",
   "execution_count": 16,
   "metadata": {
    "deletable": false,
    "editable": false,
    "nbgrader": {
     "cell_type": "code",
     "checksum": "d3459d8c6f674a969b60d19ed1f1bba8",
     "grade": true,
     "grade_id": "cell-f86ec02e2bcb84c6",
     "locked": true,
     "points": 1,
     "schema_version": 3,
     "solution": false,
     "task": false
    }
   },
   "outputs": [],
   "source": [
    "# Validação para nota\n",
    "assert contagem(['abc', 'xyz', 'aba', '1221']) == 2\n",
    "assert contagem(['ac', '1111', 'aasdfsdfdda', '12ewwww21']) == 3\n",
    "assert contagem(['', 'xyzaaaaaaaaa', 'aa', 'babababa']) == 0"
   ]
  },
  {
   "cell_type": "code",
   "execution_count": null,
   "metadata": {},
   "outputs": [],
   "source": []
  }
 ],
 "metadata": {
  "kernelspec": {
   "display_name": "Python 3",
   "language": "python",
   "name": "python3"
  },
  "language_info": {
   "codemirror_mode": {
    "name": "ipython",
    "version": 3
   },
   "file_extension": ".py",
   "mimetype": "text/x-python",
   "name": "python",
   "nbconvert_exporter": "python",
   "pygments_lexer": "ipython3",
   "version": "3.8.4"
  }
 },
 "nbformat": 4,
 "nbformat_minor": 4
}

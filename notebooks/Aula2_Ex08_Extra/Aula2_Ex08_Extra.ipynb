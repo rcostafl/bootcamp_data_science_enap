{
 "cells": [
  {
   "cell_type": "markdown",
   "metadata": {},
   "source": [
    "# Aula 2 - Exercícios Extra - Python e Pandas\n",
    "### Consulta a internet (Google, Stackoverflow e etc) liberada!!"
   ]
  },
  {
   "cell_type": "code",
   "execution_count": 2,
   "metadata": {},
   "outputs": [],
   "source": [
    "# Importe a biblioteca pandas e numpy\n",
    "import pandas as pd\n",
    "import numpy as np"
   ]
  },
  {
   "cell_type": "markdown",
   "metadata": {},
   "source": [
    "### 2.8 Escreva uma função para ordenar uma lista de dicionários usando uma função Lambda. \n",
    "### A função criada deve receber como argumento a chave do dicionário que será usada \n",
    "### na ordenação da lista.\n"
   ]
  },
  {
   "cell_type": "code",
   "execution_count": 23,
   "metadata": {
    "deletable": false,
    "nbgrader": {
     "cell_type": "code",
     "checksum": "77926cecdeb134d7fc344ffd55a0ea93",
     "grade": false,
     "grade_id": "cell-c705b9d11473b9f9",
     "locked": false,
     "schema_version": 3,
     "solution": true,
     "task": false
    }
   },
   "outputs": [],
   "source": [
    "# Dica: use a função sorted\n",
    "def sort_dict_list(l, col):\n",
    "    \"\"\"retorne os valores do complemento de s1 em relação a s2\n",
    "    \"\"\"\n",
    "    # YOUR CODE HERE\n",
    "    \n",
    "    l.sort(key=lambda list_element_dict: list_element_dict[col])\n",
    "    \n",
    "    return l\n"
   ]
  },
  {
   "cell_type": "code",
   "execution_count": 24,
   "metadata": {},
   "outputs": [
    {
     "data": {
      "text/plain": [
       "[{'name': ['David'],\n",
       "  'class': ['V'],\n",
       "  'subject_integration': ['english', 'math', 'science']},\n",
       " {'name': ['Sara'],\n",
       "  'class': ['V'],\n",
       "  'subject_integration': ['english', 'math', 'science']},\n",
       " {'name': ['Surya'],\n",
       "  'class': ['V'],\n",
       "  'subject_integration': ['english', 'math', 'science']}]"
      ]
     },
     "execution_count": 24,
     "metadata": {},
     "output_type": "execute_result"
    }
   ],
   "source": [
    "## Faça seus testes aqui\n",
    "data = [{'name': ['Sara'], 'class': ['V'], 'subject_integration': ['english', 'math', 'science']},\n",
    "        {'name': ['David'], 'class': ['V'], 'subject_integration': ['english', 'math', 'science']},\n",
    "       {'name': ['Surya'], 'class': ['V'], 'subject_integration': ['english', 'math', 'science']}]\n",
    "sort_dict_list(data, \"name\")"
   ]
  },
  {
   "cell_type": "code",
   "execution_count": 25,
   "metadata": {
    "deletable": false,
    "editable": false,
    "nbgrader": {
     "cell_type": "code",
     "checksum": "115850c207cf83950fdd8b642ae0d223",
     "grade": true,
     "grade_id": "cell-9ffda88d58e9282a",
     "locked": true,
     "points": 1,
     "schema_version": 3,
     "solution": false,
     "task": false
    }
   },
   "outputs": [],
   "source": [
    "# Validação para nota\n",
    "data = [{'name': ['Sara'], 'class': ['V'], 'subject_integration': ['english', 'math', 'science']},\n",
    "        {'name': ['David'], 'class': ['V'], 'subject_integration': ['english', 'math', 'science']},\n",
    "       {'name': ['Surya'], 'class': ['V'], 'subject_integration': ['english', 'math', 'science']}]\n",
    "\n",
    "data_sorted = [{'name': ['David'], 'class': ['V'], 'subject_integration': ['english', 'math', 'science']},\n",
    "        {'name': ['Sara'], 'class': ['V'], 'subject_integration': ['english', 'math', 'science']},\n",
    "       {'name': ['Surya'], 'class': ['V'], 'subject_integration': ['english', 'math', 'science']}]\n",
    "\n",
    "assert sort_dict_list(data, 'name') == data_sorted"
   ]
  },
  {
   "cell_type": "code",
   "execution_count": null,
   "metadata": {},
   "outputs": [],
   "source": []
  },
  {
   "cell_type": "code",
   "execution_count": null,
   "metadata": {},
   "outputs": [],
   "source": []
  }
 ],
 "metadata": {
  "kernelspec": {
   "display_name": "Python 3",
   "language": "python",
   "name": "python3"
  },
  "language_info": {
   "codemirror_mode": {
    "name": "ipython",
    "version": 3
   },
   "file_extension": ".py",
   "mimetype": "text/x-python",
   "name": "python",
   "nbconvert_exporter": "python",
   "pygments_lexer": "ipython3",
   "version": "3.8.4"
  }
 },
 "nbformat": 4,
 "nbformat_minor": 4
}

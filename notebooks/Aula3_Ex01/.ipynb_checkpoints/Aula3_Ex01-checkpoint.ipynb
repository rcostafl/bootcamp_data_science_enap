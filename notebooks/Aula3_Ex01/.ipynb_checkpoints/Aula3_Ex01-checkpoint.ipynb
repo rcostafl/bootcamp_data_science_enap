{
 "cells": [
  {
   "cell_type": "markdown",
   "metadata": {},
   "source": [
    "# Aula 3 - Exercícios - Pandas, Fontes de dados e Agregação\n",
    "### Consulta a internet (Google, Stackoverflow e etc) liberada!!"
   ]
  },
  {
   "cell_type": "code",
   "execution_count": 1,
   "metadata": {},
   "outputs": [
    {
     "name": "stdout",
     "output_type": "stream",
     "text": [
      "Cloning into '../../curso_ciencia_dados2020'...\n",
      "remote: Enumerating objects: 323, done.\u001b[K\n",
      "remote: Counting objects: 100% (323/323), done.\u001b[K\n",
      "remote: Compressing objects: 100% (202/202), done.\u001b[K\n",
      "remote: Total 323 (delta 125), reused 258 (delta 79), pack-reused 0\n",
      "Receiving objects: 100% (323/323), 29.87 MiB | 10.08 MiB/s, done.\n",
      "Resolving deltas: 100% (125/125), done.\n",
      "Updating files: 100% (54/54), done.\n"
     ]
    }
   ],
   "source": [
    "#Fazer o download dos datasets\n",
    "# Se já tiver feito o download, não precisa fazer novamente.\n",
    "# Se aparecer um erro dizendo que a pasta não está vazia é porque o download já foi feito\n",
    "!git clone https://github.com/alexlopespereira/curso_ciencia_dados2020.git ../../curso_ciencia_dados2020"
   ]
  },
  {
   "cell_type": "code",
   "execution_count": 107,
   "metadata": {},
   "outputs": [],
   "source": [
    "# Importe as bibliotecas pandas, numpy, glob e sqlalchemy\n",
    "import pandas as pd\n",
    "import numpy as np\n",
    "from numpy import nan as NA\n",
    "import sqlalchemy as sqla\n"
   ]
  },
  {
   "cell_type": "markdown",
   "metadata": {},
   "source": [
    "### 3.1 Carregue o arquivo do IDEB 2017 no formato de um DataFrame.  Crie uma função para calcular a média do IDEB de todos os municípios de um determinado Estado. \n",
    "#### Remova os registros cujo valor na coluna REDE sejam Municipal, Estadual ou Federal. Deixe somente os registros cujos valores na coluna REDE sejam Pública.\n"
   ]
  },
  {
   "cell_type": "code",
   "execution_count": 224,
   "metadata": {
    "deletable": false,
    "nbgrader": {
     "cell_type": "code",
     "checksum": "e1d661d4b00b8bcf77db5f284124b190",
     "grade": false,
     "grade_id": "cell-c705ab9d11473b9f9",
     "locked": false,
     "schema_version": 3,
     "solution": true,
     "task": false
    }
   },
   "outputs": [],
   "source": [
    "# Dica 1: Antes de calcular, substitua valores '-' por np.nan (NA) com o metodo replace.\n",
    "# Dica 2: Use a função loc para fazer o filtro de registros.\n",
    "# Dica 3: Dentre várias maneiras possíveis, uma maneira bastante concisa é usar o operador & (and) para\n",
    "# congregar dois critérios de filtro (seleção) de registros.\n",
    "def media_ideb(df, sigla_estado):\n",
    "    \"\"\"retorne o valor da media do IDEB contido na coluna col do Estado especificado por sigla_estado.\n",
    "    \"\"\"\n",
    "    # YOUR CODE HERE\n",
    "    df = df.replace(\"-\", NA)\n",
    "    df_filtered_series = df.loc[df[\"SG_UF\"] == sigla_estado, \"IDEB12_17\"]\n",
    "\n",
    "    return df_filtered_series.mean()\n"
   ]
  },
  {
   "cell_type": "code",
   "execution_count": 226,
   "metadata": {
    "scrolled": true
   },
   "outputs": [
    {
     "name": "stdout",
     "output_type": "stream",
     "text": [
      "<class 'pandas.core.series.Series'>\n"
     ]
    },
    {
     "data": {
      "text/plain": [
       "6763    4.4\n",
       "6764    4.4\n",
       "6765    4.2\n",
       "6766    4.2\n",
       "6767    4.0\n",
       "       ... \n",
       "8074    4.3\n",
       "8075    3.2\n",
       "8076    3.2\n",
       "8077    4.3\n",
       "8078    4.3\n",
       "Name: IDEB12_17, Length: 1304, dtype: float64"
      ]
     },
     "execution_count": 226,
     "metadata": {},
     "output_type": "execute_result"
    }
   ],
   "source": [
    "## Faça seus testes aqui\n",
    "path_ideb='../../curso_ciencia_dados2020/data/originais/ideb/ideb_municipios2017.xlsx'\n",
    "df_ideb = pd.read_excel(path_ideb, skiprows=8,skipfooter=3, header=1, na_values=\"-\", dtype={'IDEB12_17': float})\n",
    "#df_ideb\n",
    "res =  df_ideb[\"IDEB12_17\"]\n",
    "media_ideb(df_ideb, 'SP')\n"
   ]
  },
  {
   "cell_type": "code",
   "execution_count": 72,
   "metadata": {
    "deletable": false,
    "editable": false,
    "nbgrader": {
     "cell_type": "code",
     "checksum": "56ae53e159439f99330eb12006947f34",
     "grade": true,
     "grade_id": "cell-9ffdsa88d58e9282a",
     "locked": true,
     "points": 1,
     "schema_version": 3,
     "solution": false,
     "task": false
    }
   },
   "outputs": [
    {
     "name": "stdout",
     "output_type": "stream",
     "text": [
      "9        RO\n",
      "10       RO\n",
      "11       RO\n",
      "12       RO\n",
      "13       RO\n",
      "         ..\n",
      "11257    GO\n",
      "11258    GO\n",
      "11259    DF\n",
      "11260    DF\n",
      "11261    DF\n",
      "Name: SG_UF, Length: 11253, dtype: object\n"
     ]
    },
    {
     "ename": "AssertionError",
     "evalue": "",
     "output_type": "error",
     "traceback": [
      "\u001b[0;31m---------------------------------------------------------------------------\u001b[0m",
      "\u001b[0;31mAssertionError\u001b[0m                            Traceback (most recent call last)",
      "\u001b[0;32m<ipython-input-72-b61a139ea9a8>\u001b[0m in \u001b[0;36m<module>\u001b[0;34m\u001b[0m\n\u001b[1;32m      5\u001b[0m \u001b[0;31m# Use os argumentos skiprows e skipfooter para carregar a tabela corretamente.\u001b[0m\u001b[0;34m\u001b[0m\u001b[0;34m\u001b[0m\u001b[0;34m\u001b[0m\u001b[0m\n\u001b[1;32m      6\u001b[0m \u001b[0;31m###################################\u001b[0m\u001b[0;34m\u001b[0m\u001b[0;34m\u001b[0m\u001b[0;34m\u001b[0m\u001b[0m\n\u001b[0;32m----> 7\u001b[0;31m \u001b[0;32massert\u001b[0m \u001b[0mmedia_ideb\u001b[0m\u001b[0;34m(\u001b[0m\u001b[0mdf_ideb\u001b[0m\u001b[0;34m,\u001b[0m \u001b[0;34m'DF'\u001b[0m\u001b[0;34m)\u001b[0m \u001b[0;34m==\u001b[0m \u001b[0;36m3.4\u001b[0m\u001b[0;34m\u001b[0m\u001b[0;34m\u001b[0m\u001b[0m\n\u001b[0m\u001b[1;32m      8\u001b[0m \u001b[0;32massert\u001b[0m \u001b[0mround\u001b[0m\u001b[0;34m(\u001b[0m\u001b[0mmedia_ideb\u001b[0m\u001b[0;34m(\u001b[0m\u001b[0mdf_ideb\u001b[0m\u001b[0;34m,\u001b[0m \u001b[0;34m'SP'\u001b[0m\u001b[0;34m)\u001b[0m\u001b[0;34m,\u001b[0m\u001b[0;36m2\u001b[0m\u001b[0;34m)\u001b[0m \u001b[0;34m==\u001b[0m \u001b[0;36m4.04\u001b[0m\u001b[0;34m\u001b[0m\u001b[0;34m\u001b[0m\u001b[0m\n\u001b[1;32m      9\u001b[0m \u001b[0;32massert\u001b[0m \u001b[0mround\u001b[0m\u001b[0;34m(\u001b[0m\u001b[0mmedia_ideb\u001b[0m\u001b[0;34m(\u001b[0m\u001b[0mdf_ideb\u001b[0m\u001b[0;34m,\u001b[0m \u001b[0;34m'GO'\u001b[0m\u001b[0;34m)\u001b[0m\u001b[0;34m,\u001b[0m\u001b[0;36m2\u001b[0m\u001b[0;34m)\u001b[0m \u001b[0;34m==\u001b[0m \u001b[0;36m4.24\u001b[0m\u001b[0;34m\u001b[0m\u001b[0;34m\u001b[0m\u001b[0m\n",
      "\u001b[0;31mAssertionError\u001b[0m: "
     ]
    }
   ],
   "source": [
    "# Validação para nota\n",
    "###################################\n",
    "### ATENÇÃO PARA ESTA INSTRUÇÃO ###\n",
    "# Crie na célula anterior um dataframe df_ideb. \n",
    "# Use os argumentos skiprows e skipfooter para carregar a tabela corretamente.\n",
    "###################################\n",
    "assert media_ideb(df_ideb, 'DF') == 3.4\n",
    "assert round(media_ideb(df_ideb, 'SP'),2) == 4.04\n",
    "assert round(media_ideb(df_ideb, 'GO'),2) == 4.24"
   ]
  },
  {
   "cell_type": "code",
   "execution_count": null,
   "metadata": {},
   "outputs": [],
   "source": []
  }
 ],
 "metadata": {
  "kernelspec": {
   "display_name": "Python 3",
   "language": "python",
   "name": "python3"
  },
  "language_info": {
   "codemirror_mode": {
    "name": "ipython",
    "version": 3
   },
   "file_extension": ".py",
   "mimetype": "text/x-python",
   "name": "python",
   "nbconvert_exporter": "python",
   "pygments_lexer": "ipython3",
   "version": "3.8.4"
  }
 },
 "nbformat": 4,
 "nbformat_minor": 4
}

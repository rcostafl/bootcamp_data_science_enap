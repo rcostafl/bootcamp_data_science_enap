{
 "cells": [
  {
   "cell_type": "markdown",
   "metadata": {},
   "source": [
    "# Aula 4 - Exercícios - Agregação com Pandas e Conceitos de Estatística\n",
    "### Consulta a internet (Google, Stackoverflow e etc) liberada!!"
   ]
  },
  {
   "cell_type": "code",
   "execution_count": 2,
   "metadata": {},
   "outputs": [],
   "source": [
    "# Importe a biblioteca pandas\n",
    "import pandas as pd\n",
    "import numpy as np"
   ]
  },
  {
   "cell_type": "markdown",
   "metadata": {},
   "source": [
    "### 4.5 Escreva uma função para fazer o merge do dataset de morbidade consolidado com o dataset de população\n",
    "#### O dataset da população deve ficar a esquerda e o dataset da morbidade a direita no resultado."
   ]
  },
  {
   "cell_type": "code",
   "execution_count": 40,
   "metadata": {
    "deletable": false,
    "nbgrader": {
     "cell_type": "code",
     "checksum": "cd2a0b55bfe7999334f37716979abec5",
     "grade": false,
     "grade_id": "cell-553a5248eb14bc30",
     "locked": false,
     "schema_version": 3,
     "solution": true,
     "task": false
    }
   },
   "outputs": [],
   "source": [
    "# Dica 1: No dataset de morbidade existem valores NA representados por caracteres específicos em várias colunas \n",
    "#         do dataframe. Descubra quais são esses caracteres e especifiquei no argumento\n",
    "#         na_values. Passe nesse argumento uma lista como os caracteres que devem ser \n",
    "#         interpretados como NA.\n",
    "# Dica 2: No dataset de morbidade, especifique o separador, o caracter de números decimais e o tipo do dado do \n",
    "#         cod_ibge6 como str. Ou seja, dtype={'cod_ibge6': str}.\n",
    "# Dica 3: No dataset de população, converta o cod_munic e cod_uf para str no momento de carregar o dataset de população,\n",
    "#         usando novamente o argumento dtype. Exatamente como foi feito no exercício da aula 3.\n",
    "def merge_morbidade_pop(path_pop, path_morbidade):\n",
    "    \"\"\"retorne o merge dos datasets de população e morbidade.\n",
    "    \"\"\"\n",
    "    # YOUR CODE HERE\n",
    "    df_morbidade = pd.read_csv(path_morbidade, sep=\";\", \n",
    "                           header=0, decimal=\",\", \n",
    "                           na_values=[\"-\"], \n",
    "                           low_memory=False, \n",
    "                           dtype={\"cod_ibge6\":\"str\"}\n",
    "    )\n",
    "\n",
    "    df_populacao = pd.read_excel(path_pop, header=0, dtype={\"cod_uf\":\"str\", \"cod_munic\":\"str\"})\n",
    "    df_populacao[\"cod_ibge6\"] = df_populacao[\"cod_uf\"] + df_populacao[\"cod_munic\"].str.slice(0,-1,1)\n",
    "    return pd.merge(df_populacao, df_morbidade, on=\"cod_ibge6\")\n"
   ]
  },
  {
   "cell_type": "code",
   "execution_count": 42,
   "metadata": {},
   "outputs": [
    {
     "data": {
      "text/plain": [
       "True"
      ]
     },
     "execution_count": 42,
     "metadata": {},
     "output_type": "execute_result"
    }
   ],
   "source": [
    "## Faça seus testes aqui\n",
    "path_morbidade = '../../curso_ciencia_dados2020/data/originais/morbidade/consolidado/morbidade.csv'\n",
    "path_pop = '../../curso_ciencia_dados2020/data/originais/populacao/estimativa_dou_2017.xlsx'\n",
    "\n",
    "test_data = {'Internações': 149, 'AIH_aprovadas': 149, 'Valor_total': 101282.26}\n",
    "df_morbidade_pop = merge_morbidade_pop(path_pop, path_morbidade)\n",
    "df_00015 = df_morbidade_pop[(df_morbidade_pop['mes']=='Abr') & (df_morbidade_pop['cod_munic']=='00015')]\n",
    "df_00015 = df_00015.loc[:,['Internações', 'AIH_aprovadas', 'Valor_total']]\n",
    "dict2 = df_00015.to_dict(orient='records')[0]\n",
    "dict1 = df_morbidade_pop.iloc[0, 8:11].to_dict()\n",
    "dict1 == test_data or dict2 == test_data\n",
    "\n",
    "\n",
    " "
   ]
  },
  {
   "cell_type": "code",
   "execution_count": 43,
   "metadata": {
    "deletable": false,
    "editable": false,
    "nbgrader": {
     "cell_type": "code",
     "checksum": "3c65c86e2dc834b6804ebcd1b6c7716e",
     "grade": true,
     "grade_id": "cell-0sb2b6cefe06bdc60",
     "locked": true,
     "points": 1,
     "schema_version": 3,
     "solution": false,
     "task": false
    }
   },
   "outputs": [],
   "source": [
    "# Validação para nota\n",
    "path_morbidade = '../../curso_ciencia_dados2020/data/originais/morbidade/consolidado/morbidade.csv'\n",
    "path_pop = '../../curso_ciencia_dados2020/data/originais/populacao/estimativa_dou_2017.xlsx'\n",
    "test_data = {'Internações': 149, 'AIH_aprovadas': 149, 'Valor_total': 101282.26}\n",
    "df_morbidade_pop = merge_morbidade_pop(path_pop, path_morbidade)\n",
    "df_00015 = df_morbidade_pop[(df_morbidade_pop['mes']=='Abr') & (df_morbidade_pop['cod_munic']=='00015')]\n",
    "df_00015 = df_00015.loc[:,['Internações', 'AIH_aprovadas', 'Valor_total']]\n",
    "dict2 = df_00015.to_dict(orient='records')[0]\n",
    "dict1 = df_morbidade_pop.iloc[0, 8:11].to_dict()\n",
    "assert dict1 == test_data or dict2 == test_data"
   ]
  },
  {
   "cell_type": "code",
   "execution_count": null,
   "metadata": {},
   "outputs": [],
   "source": []
  }
 ],
 "metadata": {
  "kernelspec": {
   "display_name": "Python 3",
   "language": "python",
   "name": "python3"
  },
  "language_info": {
   "codemirror_mode": {
    "name": "ipython",
    "version": 3
   },
   "file_extension": ".py",
   "mimetype": "text/x-python",
   "name": "python",
   "nbconvert_exporter": "python",
   "pygments_lexer": "ipython3",
   "version": "3.8.4"
  }
 },
 "nbformat": 4,
 "nbformat_minor": 4
}

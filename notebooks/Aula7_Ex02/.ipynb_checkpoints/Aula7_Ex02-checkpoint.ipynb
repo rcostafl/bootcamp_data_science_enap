{
 "cells": [
  {
   "cell_type": "markdown",
   "metadata": {},
   "source": [
    "# Aula 7 - Exercícios - Webscrapy\n",
    "### Consulta a internet (Google, Stackoverflow e etc) liberada!!"
   ]
  },
  {
   "cell_type": "markdown",
   "metadata": {},
   "source": [
    "### 7.2 Usando uma IDE de desenvolvimento python (como o Pycharm) desenvolva um script de webscrapy para coletar os dados de 100 registros de dados do portal de acórdãos do TCU.\n",
    "#### Depois de testar seu script numa IDE, cole-o na célula deste exercício logo abaixo.\n",
    "#### Colete o conteúdo de todos os atributos do acórdão  (Número do Acórdão, Relator, Processo, Tipo de processo, Data da sessão, Número da ata, Interessado / Responsável / Recorrente, Entidade, Representante do Ministério Público, Unidade Técnica, Representante Legal, Assunto, Sumário, Acórdão).\n",
    "\n",
    "#### Dica: Utilize a URL da pagina de busca dos acórdãos do TCU: https://pesquisa.apps.tcu.gov.br/#/resultado/acordao-completo/*/%2520/%2520"
   ]
  },
  {
   "cell_type": "code",
   "execution_count": null,
   "metadata": {
    "deletable": false,
    "nbgrader": {
     "cell_type": "code",
     "checksum": "c8a60196a8089185bf83cbc83d626f92",
     "grade": true,
     "grade_id": "cell-c705ab9d11473b9f9",
     "locked": false,
     "points": 1,
     "schema_version": 3,
     "solution": true,
     "task": false
    }
   },
   "outputs": [],
   "source": [
    "# YOUR CODE HERE\n",
    "raise NotImplementedError()"
   ]
  },
  {
   "cell_type": "code",
   "execution_count": null,
   "metadata": {},
   "outputs": [],
   "source": []
  },
  {
   "cell_type": "code",
   "execution_count": null,
   "metadata": {},
   "outputs": [],
   "source": []
  },
  {
   "cell_type": "code",
   "execution_count": null,
   "metadata": {},
   "outputs": [],
   "source": []
  }
 ],
 "metadata": {
  "kernelspec": {
   "display_name": "Python 3",
   "language": "python",
   "name": "python3"
  },
  "language_info": {
   "codemirror_mode": {
    "name": "ipython",
    "version": 3
   },
   "file_extension": ".py",
   "mimetype": "text/x-python",
   "name": "python",
   "nbconvert_exporter": "python",
   "pygments_lexer": "ipython3",
   "version": "3.8.4"
  }
 },
 "nbformat": 4,
 "nbformat_minor": 4
}

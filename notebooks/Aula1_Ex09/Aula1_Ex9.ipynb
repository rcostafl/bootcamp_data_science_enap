{
 "cells": [
  {
   "cell_type": "markdown",
   "metadata": {},
   "source": [
    "# Aula 1 - Exercícios - Sintaxe de Python e NumPy Array\n",
    "### Consulta a internet (Google, Stackoverflow e etc) liberada!!"
   ]
  },
  {
   "cell_type": "markdown",
   "metadata": {},
   "source": [
    "### 1.9 Escreva uma função Python para criar um array numpy 2D com 1s nos elementos das bordas e com 0s no interior. O tamanho do array deve ser parametrizável.\n",
    "#### Exemplo:  para um n=3\n",
    "#### Resultado esperado: array([[1, 1, 1], [1, 0, 1], [1, 1, 1]])"
   ]
  },
  {
   "cell_type": "code",
   "execution_count": 1,
   "metadata": {},
   "outputs": [],
   "source": [
    "import numpy as np"
   ]
  },
  {
   "cell_type": "code",
   "execution_count": 40,
   "metadata": {
    "deletable": false,
    "nbgrader": {
     "cell_type": "code",
     "checksum": "d2951f59af0e25b41669a7e593d58f77",
     "grade": false,
     "grade_id": "cell-513f2b547866e072",
     "locked": false,
     "schema_version": 3,
     "solution": true,
     "task": false
    }
   },
   "outputs": [
    {
     "data": {
      "text/plain": [
       "'def create_array(n):\\n    array =[]\\n    m = n - 2\\n    \\n\\n    array.append(np.ones(n))\\n    \\n    for i in range(m):\\n        i = np.zeros(n)\\n        i[0] = 1\\n        i[-1] = 1\\n        array.append(i)\\n        \\n    array.append(np.ones(n))\\n    \\n    return array  '"
      ]
     },
     "execution_count": 40,
     "metadata": {},
     "output_type": "execute_result"
    }
   ],
   "source": [
    "# Dica: A função ones do pacote numpy cria um array de 1s\n",
    "def create_array(n):\n",
    "    \"\"\"retorne um array 2d preenchido com 1s nas bordas e 0s no interior \n",
    "    \"\"\"\n",
    "    my_list = []\n",
    "    # YOUR CODE HERE\n",
    "    array = np.zeros((n, n)) \n",
    "    #array.swapaxes(0,1)[0] = 1\n",
    "    #array.swapaxes(0,1)[n-1] = 1\n",
    "    #array.swapaxes(0,0)[0] = 1\n",
    "    #array.swapaxes(0,0)[-1] = 1\n",
    "    array[0,:] = 1\n",
    "    array[-1,:] = 1\n",
    "    array[:,0] = 1\n",
    "    array[:,-1] = 1\n",
    "    return array\n",
    "    #raise NotImplementedError()\n",
    "\n",
    "    \"\"\" Alternative solution\n",
    "    x = np.ones((3,3))\n",
    "    x[1:-1,1:-1] = 0\n",
    "    print(x)\"\"\"\n",
    "    \n",
    "\"\"\"def create_array(n):\n",
    "    array =[]\n",
    "    m = n - 2\n",
    "    \n",
    "\n",
    "    array.append(np.ones(n))\n",
    "    \n",
    "    for i in range(m):\n",
    "        i = np.zeros(n)\n",
    "        i[0] = 1\n",
    "        i[-1] = 1\n",
    "        array.append(i)\n",
    "        \n",
    "    array.append(np.ones(n))\n",
    "    \n",
    "    return array  \"\"\"     "
   ]
  },
  {
   "cell_type": "code",
   "execution_count": 41,
   "metadata": {},
   "outputs": [
    {
     "name": "stdout",
     "output_type": "stream",
     "text": [
      "[[1. 1. 1. 1. 1.]\n",
      " [1. 0. 0. 0. 1.]\n",
      " [1. 0. 0. 0. 1.]\n",
      " [1. 0. 0. 0. 1.]\n",
      " [1. 1. 1. 1. 1.]]\n"
     ]
    }
   ],
   "source": [
    "## Faça seus testes aqui\n",
    "\n",
    "print(create_array(5))"
   ]
  },
  {
   "cell_type": "code",
   "execution_count": 43,
   "metadata": {
    "deletable": false,
    "editable": false,
    "nbgrader": {
     "cell_type": "code",
     "checksum": "9cf9924d9ff2d2c1124a5b7c4bd56b85",
     "grade": true,
     "grade_id": "cell-73baa7b9cc0314dc",
     "locked": true,
     "points": 1,
     "schema_version": 3,
     "solution": false,
     "task": false
    }
   },
   "outputs": [],
   "source": [
    "# Validação para nota\n",
    "a3 = np.array([[1, 1, 1], [1, 0, 1], [1, 1, 1]])\n",
    "a6 = np.array([[1., 1., 1., 1., 1., 1.],\n",
    "       [1., 0., 0., 0., 0., 1.],\n",
    "       [1., 0., 0., 0., 0., 1.],\n",
    "       [1., 0., 0., 0., 0., 1.],\n",
    "       [1., 0., 0., 0., 0., 1.],\n",
    "       [1., 1., 1., 1., 1., 1.]])\n",
    "assert (create_array(3) == a3).all()\n",
    "assert (create_array(6) == a6).all()\n",
    "\n"
   ]
  },
  {
   "cell_type": "code",
   "execution_count": null,
   "metadata": {},
   "outputs": [],
   "source": []
  },
  {
   "cell_type": "code",
   "execution_count": null,
   "metadata": {},
   "outputs": [],
   "source": []
  }
 ],
 "metadata": {
  "kernelspec": {
   "display_name": "Python 3",
   "language": "python",
   "name": "python3"
  },
  "language_info": {
   "codemirror_mode": {
    "name": "ipython",
    "version": 3
   },
   "file_extension": ".py",
   "mimetype": "text/x-python",
   "name": "python",
   "nbconvert_exporter": "python",
   "pygments_lexer": "ipython3",
   "version": "3.8.4"
  }
 },
 "nbformat": 4,
 "nbformat_minor": 4
}

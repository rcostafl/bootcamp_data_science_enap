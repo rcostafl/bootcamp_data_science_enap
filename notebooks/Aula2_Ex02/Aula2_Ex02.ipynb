{
 "cells": [
  {
   "cell_type": "markdown",
   "metadata": {},
   "source": [
    "# Aula 2 - Exercícios - Python e Pandas\n",
    "### Consulta a internet (Google, Stackoverflow e etc) liberada!!"
   ]
  },
  {
   "cell_type": "code",
   "execution_count": null,
   "metadata": {},
   "outputs": [],
   "source": [
    "# Importe as bibliotecas pandas e numpy\n",
    "import pandas as pd\n",
    "import numpy as np"
   ]
  },
  {
   "cell_type": "markdown",
   "metadata": {},
   "source": [
    "### 2.2 Escreva uma função para obter os itens que não são comuns em duas séries.\n",
    "### Ou seja, estão na uniao mas não na intersecção.\n",
    "#### Exemplo: Considere uma Serie A com os valores [1, 2, 3, 4, 5, 6, 7, 8], e\n",
    "####          uma Serie B com os valores [2, 4, 6, 8, 10, 12]\n",
    "#### Resultado Esperado: Uma Serie com os valores [1, 3, 5, 7,10,12]\n"
   ]
  },
  {
   "cell_type": "code",
   "execution_count": null,
   "metadata": {
    "deletable": false,
    "nbgrader": {
     "cell_type": "code",
     "checksum": "1391c94cc5b0d0641c6fd45215b15d2c",
     "grade": false,
     "grade_id": "cell-553ee248eb14bc30",
     "locked": false,
     "schema_version": 3,
     "solution": true,
     "task": false
    }
   },
   "outputs": [],
   "source": [
    "# Dica 1: Use a função np.union1d para calcular a união de duas Series.\n",
    "#     Exemplo: o código pd.Series(np.union1d(t1, t2)) crie uma Serie da união de t1 e t2\n",
    "\n",
    "def complemento2(s1, s2):\n",
    "    \"\"\"retorne os valores que não são comuns em duas séries\n",
    "    \"\"\"\n",
    "    # YOUR CODE HERE\n",
    "    s1_not_in_s2 = s1[~s1.isin(s2)]\n",
    "    s2_not_in_s1 = s2[~s2.isin(s1)]\n",
    "    #print(s1_not_in_s2)\n",
    "    #print(s2_not_in_s1)\n",
    "    return pd.Series(np.union1d(s1_not_in_s2, s2_not_in_s1))\n",
    "    \n",
    "    #raise NotImplementedError()\n"
   ]
  },
  {
   "cell_type": "code",
   "execution_count": null,
   "metadata": {},
   "outputs": [],
   "source": [
    "## Faça seus testes aqui\n",
    "s1 = pd.Series([1, 2, 3, 4, 5, 6, 7, 8]) \n",
    "s2 = pd.Series([2, 4, 6, 8, 10, 12]) \n",
    "c = pd.Series([1, 3, 5, 7, 10, 12]) \n",
    "#n=np.union1d(s1, s2)\n",
    "#print(n)\n",
    "complemento2(s1, s2)\n"
   ]
  },
  {
   "cell_type": "code",
   "execution_count": null,
   "metadata": {
    "deletable": false,
    "editable": false,
    "nbgrader": {
     "cell_type": "code",
     "checksum": "8991c1f5cb95ed7db6fe4066e6cef97e",
     "grade": true,
     "grade_id": "cell-0e2bt6cefe06bdc60",
     "locked": true,
     "points": 1,
     "schema_version": 3,
     "solution": false,
     "task": false
    }
   },
   "outputs": [],
   "source": [
    "# Validação para nota\n",
    "s1 = pd.Series([1, 2, 3, 4, 5, 6, 7, 8]) \n",
    "s2 = pd.Series([2, 4, 6, 8, 10, 12]) \n",
    "c = pd.Series([1, 3, 5, 7, 10, 12]) \n",
    "\n",
    "assert complemento2(s1,s2).reset_index()[0].equals(c) "
   ]
  },
  {
   "cell_type": "code",
   "execution_count": null,
   "metadata": {},
   "outputs": [],
   "source": []
  }
 ],
 "metadata": {
  "kernelspec": {
   "display_name": "Python 3",
   "language": "python",
   "name": "python3"
  },
  "language_info": {
   "codemirror_mode": {
    "name": "ipython",
    "version": 3
   },
   "file_extension": ".py",
   "mimetype": "text/x-python",
   "name": "python",
   "nbconvert_exporter": "python",
   "pygments_lexer": "ipython3",
   "version": "3.8.4"
  }
 },
 "nbformat": 4,
 "nbformat_minor": 4
}
